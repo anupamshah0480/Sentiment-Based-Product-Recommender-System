{
 "cells": [
  {
   "cell_type": "code",
   "execution_count": 121,
   "metadata": {
    "_cell_guid": "b1076dfc-b9ad-4769-8c92-a6c4dae69d19",
    "_uuid": "8f2839f25d086af736a60e9eeb907d3b93b6e0e5",
    "execution": {
     "iopub.execute_input": "2022-02-01T18:37:01.894890Z",
     "iopub.status.busy": "2022-02-01T18:37:01.892792Z",
     "iopub.status.idle": "2022-02-01T18:37:01.913025Z",
     "shell.execute_reply": "2022-02-01T18:37:01.911914Z",
     "shell.execute_reply.started": "2022-02-01T18:37:01.894674Z"
    }
   },
   "outputs": [],
   "source": [
    "# This Python 3 environment comes with many helpful analytics libraries installed\n",
    "# It is defined by the kaggle/python Docker image: https://github.com/kaggle/docker-python\n",
    "# For example, here's several helpful packages to load\n",
    "\n",
    "import numpy as np # linear algebra\n",
    "import pandas as pd # data processing, CSV file I/O (e.g. pd.read_csv)\n",
    "\n",
    "# Input data files are available in the read-only \"../input/\" directory\n",
    "# For example, running this (by clicking run or pressing Shift+Enter) will list all files under the input directory\n",
    "\n",
    "import os\n",
    "for dirname, _, filenames in os.walk('/kaggle/input'):\n",
    "    for filename in filenames:\n",
    "        print(os.path.join(dirname, filename))\n",
    "\n",
    "# You can write up to 20GB to the current directory (/kaggle/working/) that gets preserved as output when you create a version using \"Save & Run All\" \n",
    "# You can also write temporary files to /kaggle/temp/, but they won't be saved outside of the current session"
   ]
  },
  {
   "cell_type": "code",
   "execution_count": 1,
   "metadata": {
    "execution": {
     "iopub.execute_input": "2022-02-01T18:38:11.372977Z",
     "iopub.status.busy": "2022-02-01T18:38:11.372592Z",
     "iopub.status.idle": "2022-02-01T18:38:12.710818Z",
     "shell.execute_reply": "2022-02-01T18:38:12.709813Z",
     "shell.execute_reply.started": "2022-02-01T18:38:11.372882Z"
    }
   },
   "outputs": [],
   "source": [
    "import pandas as pd\n",
    "import numpy as np\n",
    "\n",
    "from sklearn.model_selection import train_test_split\n",
    "from sklearn.metrics.pairwise import pairwise_distances\n",
    "from sklearn.preprocessing import MinMaxScaler\n",
    "\n",
    "\n",
    "import seaborn as sns\n",
    "import matplotlib.pyplot as plt\n",
    "\n",
    "%matplotlib inline\n",
    "\n",
    "\n",
    "import warnings\n",
    "warnings.filterwarnings('ignore')\n",
    "\n",
    "pd.set_option('display.max_rows', 500)"
   ]
  },
  {
   "cell_type": "code",
   "execution_count": 2,
   "metadata": {
    "execution": {
     "iopub.execute_input": "2022-02-01T18:38:13.813026Z",
     "iopub.status.busy": "2022-02-01T18:38:13.812707Z",
     "iopub.status.idle": "2022-02-01T18:38:14.263119Z",
     "shell.execute_reply": "2022-02-01T18:38:14.262382Z",
     "shell.execute_reply.started": "2022-02-01T18:38:13.812988Z"
    }
   },
   "outputs": [],
   "source": [
    "df = pd.read_csv(\"capstone_data.csv\", encoding='utf8')"
   ]
  },
  {
   "cell_type": "code",
   "execution_count": 3,
   "metadata": {
    "execution": {
     "iopub.execute_input": "2022-02-01T18:38:24.133537Z",
     "iopub.status.busy": "2022-02-01T18:38:24.133042Z",
     "iopub.status.idle": "2022-02-01T18:38:24.164810Z",
     "shell.execute_reply": "2022-02-01T18:38:24.163896Z",
     "shell.execute_reply.started": "2022-02-01T18:38:24.133476Z"
    }
   },
   "outputs": [
    {
     "data": {
      "text/html": [
       "<div>\n",
       "<style scoped>\n",
       "    .dataframe tbody tr th:only-of-type {\n",
       "        vertical-align: middle;\n",
       "    }\n",
       "\n",
       "    .dataframe tbody tr th {\n",
       "        vertical-align: top;\n",
       "    }\n",
       "\n",
       "    .dataframe thead th {\n",
       "        text-align: right;\n",
       "    }\n",
       "</style>\n",
       "<table border=\"1\" class=\"dataframe\">\n",
       "  <thead>\n",
       "    <tr style=\"text-align: right;\">\n",
       "      <th></th>\n",
       "      <th>id</th>\n",
       "      <th>brand</th>\n",
       "      <th>categories</th>\n",
       "      <th>manufacturer</th>\n",
       "      <th>name</th>\n",
       "      <th>reviews_date</th>\n",
       "      <th>reviews_didPurchase</th>\n",
       "      <th>reviews_doRecommend</th>\n",
       "      <th>reviews_rating</th>\n",
       "      <th>reviews_text</th>\n",
       "      <th>reviews_title</th>\n",
       "      <th>reviews_userCity</th>\n",
       "      <th>reviews_userProvince</th>\n",
       "      <th>reviews_username</th>\n",
       "      <th>user_sentiment</th>\n",
       "    </tr>\n",
       "  </thead>\n",
       "  <tbody>\n",
       "    <tr>\n",
       "      <th>0</th>\n",
       "      <td>AV13O1A8GV-KLJ3akUyj</td>\n",
       "      <td>Universal Music</td>\n",
       "      <td>Movies, Music &amp; Books,Music,R&amp;b,Movies &amp; TV,Mo...</td>\n",
       "      <td>Universal Music Group / Cash Money</td>\n",
       "      <td>Pink Friday: Roman Reloaded Re-Up (w/dvd)</td>\n",
       "      <td>2012-11-30T06:21:45.000Z</td>\n",
       "      <td>NaN</td>\n",
       "      <td>NaN</td>\n",
       "      <td>5</td>\n",
       "      <td>i love this album. it's very good. more to the...</td>\n",
       "      <td>Just Awesome</td>\n",
       "      <td>Los Angeles</td>\n",
       "      <td>NaN</td>\n",
       "      <td>joshua</td>\n",
       "      <td>Positive</td>\n",
       "    </tr>\n",
       "    <tr>\n",
       "      <th>1</th>\n",
       "      <td>AV14LG0R-jtxr-f38QfS</td>\n",
       "      <td>Lundberg</td>\n",
       "      <td>Food,Packaged Foods,Snacks,Crackers,Snacks, Co...</td>\n",
       "      <td>Lundberg</td>\n",
       "      <td>Lundberg Organic Cinnamon Toast Rice Cakes</td>\n",
       "      <td>2017-07-09T00:00:00.000Z</td>\n",
       "      <td>True</td>\n",
       "      <td>NaN</td>\n",
       "      <td>5</td>\n",
       "      <td>Good flavor. This review was collected as part...</td>\n",
       "      <td>Good</td>\n",
       "      <td>NaN</td>\n",
       "      <td>NaN</td>\n",
       "      <td>dorothy w</td>\n",
       "      <td>Positive</td>\n",
       "    </tr>\n",
       "    <tr>\n",
       "      <th>2</th>\n",
       "      <td>AV14LG0R-jtxr-f38QfS</td>\n",
       "      <td>Lundberg</td>\n",
       "      <td>Food,Packaged Foods,Snacks,Crackers,Snacks, Co...</td>\n",
       "      <td>Lundberg</td>\n",
       "      <td>Lundberg Organic Cinnamon Toast Rice Cakes</td>\n",
       "      <td>2017-07-09T00:00:00.000Z</td>\n",
       "      <td>True</td>\n",
       "      <td>NaN</td>\n",
       "      <td>5</td>\n",
       "      <td>Good flavor.</td>\n",
       "      <td>Good</td>\n",
       "      <td>NaN</td>\n",
       "      <td>NaN</td>\n",
       "      <td>dorothy w</td>\n",
       "      <td>Positive</td>\n",
       "    </tr>\n",
       "    <tr>\n",
       "      <th>3</th>\n",
       "      <td>AV16khLE-jtxr-f38VFn</td>\n",
       "      <td>K-Y</td>\n",
       "      <td>Personal Care,Medicine Cabinet,Lubricant/Sperm...</td>\n",
       "      <td>K-Y</td>\n",
       "      <td>K-Y Love Sensuality Pleasure Gel</td>\n",
       "      <td>2016-01-06T00:00:00.000Z</td>\n",
       "      <td>False</td>\n",
       "      <td>False</td>\n",
       "      <td>1</td>\n",
       "      <td>I read through the reviews on here before look...</td>\n",
       "      <td>Disappointed</td>\n",
       "      <td>NaN</td>\n",
       "      <td>NaN</td>\n",
       "      <td>rebecca</td>\n",
       "      <td>Negative</td>\n",
       "    </tr>\n",
       "    <tr>\n",
       "      <th>4</th>\n",
       "      <td>AV16khLE-jtxr-f38VFn</td>\n",
       "      <td>K-Y</td>\n",
       "      <td>Personal Care,Medicine Cabinet,Lubricant/Sperm...</td>\n",
       "      <td>K-Y</td>\n",
       "      <td>K-Y Love Sensuality Pleasure Gel</td>\n",
       "      <td>2016-12-21T00:00:00.000Z</td>\n",
       "      <td>False</td>\n",
       "      <td>False</td>\n",
       "      <td>1</td>\n",
       "      <td>My husband bought this gel for us. The gel cau...</td>\n",
       "      <td>Irritation</td>\n",
       "      <td>NaN</td>\n",
       "      <td>NaN</td>\n",
       "      <td>walker557</td>\n",
       "      <td>Negative</td>\n",
       "    </tr>\n",
       "  </tbody>\n",
       "</table>\n",
       "</div>"
      ],
      "text/plain": [
       "                     id            brand  \\\n",
       "0  AV13O1A8GV-KLJ3akUyj  Universal Music   \n",
       "1  AV14LG0R-jtxr-f38QfS         Lundberg   \n",
       "2  AV14LG0R-jtxr-f38QfS         Lundberg   \n",
       "3  AV16khLE-jtxr-f38VFn              K-Y   \n",
       "4  AV16khLE-jtxr-f38VFn              K-Y   \n",
       "\n",
       "                                          categories  \\\n",
       "0  Movies, Music & Books,Music,R&b,Movies & TV,Mo...   \n",
       "1  Food,Packaged Foods,Snacks,Crackers,Snacks, Co...   \n",
       "2  Food,Packaged Foods,Snacks,Crackers,Snacks, Co...   \n",
       "3  Personal Care,Medicine Cabinet,Lubricant/Sperm...   \n",
       "4  Personal Care,Medicine Cabinet,Lubricant/Sperm...   \n",
       "\n",
       "                         manufacturer  \\\n",
       "0  Universal Music Group / Cash Money   \n",
       "1                            Lundberg   \n",
       "2                            Lundberg   \n",
       "3                                 K-Y   \n",
       "4                                 K-Y   \n",
       "\n",
       "                                         name              reviews_date  \\\n",
       "0   Pink Friday: Roman Reloaded Re-Up (w/dvd)  2012-11-30T06:21:45.000Z   \n",
       "1  Lundberg Organic Cinnamon Toast Rice Cakes  2017-07-09T00:00:00.000Z   \n",
       "2  Lundberg Organic Cinnamon Toast Rice Cakes  2017-07-09T00:00:00.000Z   \n",
       "3            K-Y Love Sensuality Pleasure Gel  2016-01-06T00:00:00.000Z   \n",
       "4            K-Y Love Sensuality Pleasure Gel  2016-12-21T00:00:00.000Z   \n",
       "\n",
       "  reviews_didPurchase reviews_doRecommend  reviews_rating  \\\n",
       "0                 NaN                 NaN               5   \n",
       "1                True                 NaN               5   \n",
       "2                True                 NaN               5   \n",
       "3               False               False               1   \n",
       "4               False               False               1   \n",
       "\n",
       "                                        reviews_text reviews_title  \\\n",
       "0  i love this album. it's very good. more to the...  Just Awesome   \n",
       "1  Good flavor. This review was collected as part...          Good   \n",
       "2                                       Good flavor.          Good   \n",
       "3  I read through the reviews on here before look...  Disappointed   \n",
       "4  My husband bought this gel for us. The gel cau...    Irritation   \n",
       "\n",
       "  reviews_userCity reviews_userProvince reviews_username user_sentiment  \n",
       "0      Los Angeles                  NaN           joshua       Positive  \n",
       "1              NaN                  NaN        dorothy w       Positive  \n",
       "2              NaN                  NaN        dorothy w       Positive  \n",
       "3              NaN                  NaN          rebecca       Negative  \n",
       "4              NaN                  NaN        walker557       Negative  "
      ]
     },
     "execution_count": 3,
     "metadata": {},
     "output_type": "execute_result"
    }
   ],
   "source": [
    "df.head()"
   ]
  },
  {
   "cell_type": "code",
   "execution_count": 4,
   "metadata": {
    "execution": {
     "iopub.execute_input": "2022-02-01T18:38:25.144056Z",
     "iopub.status.busy": "2022-02-01T18:38:25.143549Z",
     "iopub.status.idle": "2022-02-01T18:38:25.156638Z",
     "shell.execute_reply": "2022-02-01T18:38:25.155837Z",
     "shell.execute_reply.started": "2022-02-01T18:38:25.144021Z"
    }
   },
   "outputs": [],
   "source": [
    "#Lets fetch out the columns required for creating similarity matrices\n",
    "\n",
    "df_main = df[['id', 'reviews_username', 'reviews_rating']]"
   ]
  },
  {
   "cell_type": "code",
   "execution_count": 5,
   "metadata": {
    "execution": {
     "iopub.execute_input": "2022-02-01T18:38:25.557659Z",
     "iopub.status.busy": "2022-02-01T18:38:25.557331Z",
     "iopub.status.idle": "2022-02-01T18:38:25.565591Z",
     "shell.execute_reply": "2022-02-01T18:38:25.564634Z",
     "shell.execute_reply.started": "2022-02-01T18:38:25.557622Z"
    }
   },
   "outputs": [],
   "source": [
    "#Renaming the columns for ease of understanding and coding\n",
    "\n",
    "df_main = df_main.rename(columns= {'id':\"product_id\", 'reviews_username':\"user\", 'reviews_rating':\"ratings\"})"
   ]
  },
  {
   "cell_type": "code",
   "execution_count": 6,
   "metadata": {
    "execution": {
     "iopub.execute_input": "2022-02-01T18:38:27.620805Z",
     "iopub.status.busy": "2022-02-01T18:38:27.620397Z",
     "iopub.status.idle": "2022-02-01T18:38:27.633218Z",
     "shell.execute_reply": "2022-02-01T18:38:27.631942Z",
     "shell.execute_reply.started": "2022-02-01T18:38:27.620762Z"
    }
   },
   "outputs": [
    {
     "data": {
      "text/html": [
       "<div>\n",
       "<style scoped>\n",
       "    .dataframe tbody tr th:only-of-type {\n",
       "        vertical-align: middle;\n",
       "    }\n",
       "\n",
       "    .dataframe tbody tr th {\n",
       "        vertical-align: top;\n",
       "    }\n",
       "\n",
       "    .dataframe thead th {\n",
       "        text-align: right;\n",
       "    }\n",
       "</style>\n",
       "<table border=\"1\" class=\"dataframe\">\n",
       "  <thead>\n",
       "    <tr style=\"text-align: right;\">\n",
       "      <th></th>\n",
       "      <th>product_id</th>\n",
       "      <th>user</th>\n",
       "      <th>ratings</th>\n",
       "    </tr>\n",
       "  </thead>\n",
       "  <tbody>\n",
       "    <tr>\n",
       "      <th>0</th>\n",
       "      <td>AV13O1A8GV-KLJ3akUyj</td>\n",
       "      <td>joshua</td>\n",
       "      <td>5</td>\n",
       "    </tr>\n",
       "    <tr>\n",
       "      <th>1</th>\n",
       "      <td>AV14LG0R-jtxr-f38QfS</td>\n",
       "      <td>dorothy w</td>\n",
       "      <td>5</td>\n",
       "    </tr>\n",
       "    <tr>\n",
       "      <th>2</th>\n",
       "      <td>AV14LG0R-jtxr-f38QfS</td>\n",
       "      <td>dorothy w</td>\n",
       "      <td>5</td>\n",
       "    </tr>\n",
       "    <tr>\n",
       "      <th>3</th>\n",
       "      <td>AV16khLE-jtxr-f38VFn</td>\n",
       "      <td>rebecca</td>\n",
       "      <td>1</td>\n",
       "    </tr>\n",
       "    <tr>\n",
       "      <th>4</th>\n",
       "      <td>AV16khLE-jtxr-f38VFn</td>\n",
       "      <td>walker557</td>\n",
       "      <td>1</td>\n",
       "    </tr>\n",
       "  </tbody>\n",
       "</table>\n",
       "</div>"
      ],
      "text/plain": [
       "             product_id       user  ratings\n",
       "0  AV13O1A8GV-KLJ3akUyj     joshua        5\n",
       "1  AV14LG0R-jtxr-f38QfS  dorothy w        5\n",
       "2  AV14LG0R-jtxr-f38QfS  dorothy w        5\n",
       "3  AV16khLE-jtxr-f38VFn    rebecca        1\n",
       "4  AV16khLE-jtxr-f38VFn  walker557        1"
      ]
     },
     "execution_count": 6,
     "metadata": {},
     "output_type": "execute_result"
    }
   ],
   "source": [
    "df_main.head()"
   ]
  },
  {
   "cell_type": "code",
   "execution_count": 7,
   "metadata": {
    "execution": {
     "iopub.execute_input": "2022-02-01T18:38:28.166431Z",
     "iopub.status.busy": "2022-02-01T18:38:28.166062Z",
     "iopub.status.idle": "2022-02-01T18:38:28.198739Z",
     "shell.execute_reply": "2022-02-01T18:38:28.197949Z",
     "shell.execute_reply.started": "2022-02-01T18:38:28.166387Z"
    }
   },
   "outputs": [
    {
     "name": "stdout",
     "output_type": "stream",
     "text": [
      "<class 'pandas.core.frame.DataFrame'>\n",
      "RangeIndex: 30000 entries, 0 to 29999\n",
      "Data columns (total 3 columns):\n",
      " #   Column      Non-Null Count  Dtype \n",
      "---  ------      --------------  ----- \n",
      " 0   product_id  30000 non-null  object\n",
      " 1   user        29937 non-null  object\n",
      " 2   ratings     30000 non-null  int64 \n",
      "dtypes: int64(1), object(2)\n",
      "memory usage: 703.2+ KB\n"
     ]
    }
   ],
   "source": [
    "df_main.info()"
   ]
  },
  {
   "cell_type": "code",
   "execution_count": 8,
   "metadata": {
    "execution": {
     "iopub.execute_input": "2022-02-01T18:38:30.007031Z",
     "iopub.status.busy": "2022-02-01T18:38:30.006482Z",
     "iopub.status.idle": "2022-02-01T18:38:30.024936Z",
     "shell.execute_reply": "2022-02-01T18:38:30.024161Z",
     "shell.execute_reply.started": "2022-02-01T18:38:30.006994Z"
    }
   },
   "outputs": [
    {
     "data": {
      "text/plain": [
       "24914"
      ]
     },
     "execution_count": 8,
     "metadata": {},
     "output_type": "execute_result"
    }
   ],
   "source": [
    "df_main.user.nunique()"
   ]
  },
  {
   "cell_type": "code",
   "execution_count": 9,
   "metadata": {
    "execution": {
     "iopub.execute_input": "2022-02-01T18:38:30.658963Z",
     "iopub.status.busy": "2022-02-01T18:38:30.658097Z",
     "iopub.status.idle": "2022-02-01T18:38:30.675546Z",
     "shell.execute_reply": "2022-02-01T18:38:30.674141Z",
     "shell.execute_reply.started": "2022-02-01T18:38:30.658915Z"
    }
   },
   "outputs": [
    {
     "name": "stdout",
     "output_type": "stream",
     "text": [
      "Users who have given reviews to more than one product:  5023\n"
     ]
    }
   ],
   "source": [
    "#Lets find the users who have given review to more than one product\n",
    "\n",
    "print(\"Users who have given reviews to more than one product: \", 29937-(df_main.user.nunique()))"
   ]
  },
  {
   "cell_type": "code",
   "execution_count": 10,
   "metadata": {
    "execution": {
     "iopub.execute_input": "2022-02-01T18:38:31.078438Z",
     "iopub.status.busy": "2022-02-01T18:38:31.078040Z",
     "iopub.status.idle": "2022-02-01T18:38:31.089954Z",
     "shell.execute_reply": "2022-02-01T18:38:31.089248Z",
     "shell.execute_reply.started": "2022-02-01T18:38:31.078392Z"
    }
   },
   "outputs": [
    {
     "data": {
      "text/plain": [
       "271"
      ]
     },
     "execution_count": 10,
     "metadata": {},
     "output_type": "execute_result"
    }
   ],
   "source": [
    "#Lets find the total number of product\n",
    "\n",
    "df_main.product_id.nunique()"
   ]
  },
  {
   "cell_type": "code",
   "execution_count": 11,
   "metadata": {
    "execution": {
     "iopub.execute_input": "2022-02-01T18:38:31.715917Z",
     "iopub.status.busy": "2022-02-01T18:38:31.715258Z",
     "iopub.status.idle": "2022-02-01T18:38:31.731267Z",
     "shell.execute_reply": "2022-02-01T18:38:31.729978Z",
     "shell.execute_reply.started": "2022-02-01T18:38:31.715875Z"
    }
   },
   "outputs": [
    {
     "data": {
      "text/plain": [
       "count    30000.000000\n",
       "mean         4.483133\n",
       "std          0.988441\n",
       "min          1.000000\n",
       "25%          4.000000\n",
       "50%          5.000000\n",
       "75%          5.000000\n",
       "max          5.000000\n",
       "Name: ratings, dtype: float64"
      ]
     },
     "execution_count": 11,
     "metadata": {},
     "output_type": "execute_result"
    }
   ],
   "source": [
    "#Checking the descriptive stats of he rating column\n",
    "\n",
    "df_main.ratings.describe()"
   ]
  },
  {
   "cell_type": "code",
   "execution_count": 12,
   "metadata": {
    "execution": {
     "iopub.execute_input": "2022-02-01T18:38:32.887571Z",
     "iopub.status.busy": "2022-02-01T18:38:32.887167Z",
     "iopub.status.idle": "2022-02-01T18:38:33.152454Z",
     "shell.execute_reply": "2022-02-01T18:38:33.151312Z",
     "shell.execute_reply.started": "2022-02-01T18:38:32.887529Z"
    }
   },
   "outputs": [
    {
     "data": {
      "image/png": "[encoded data removed]",
      "text/plain": [
       "<Figure size 720x432 with 1 Axes>"
      ]
     },
     "metadata": {
      "needs_background": "light"
     },
     "output_type": "display_data"
    }
   ],
   "source": [
    "#Lets plot the distribution of user ratings\n",
    "\n",
    "plt.figure(figsize=(10,6))\n",
    "ax = sns.countplot(df_main['ratings'])\n",
    "ax.set_xlabel(xlabel=\"Ratings\", fontsize=13)\n",
    "ax.set_ylabel(ylabel='Count of Reviews', fontsize=13)\n",
    "ax.axes.set_title('Rating distribution', fontsize=13)\n",
    "ax.tick_params(labelsize=10)"
   ]
  },
  {
   "cell_type": "markdown",
   "metadata": {},
   "source": [
    "### Splitting the data into train and test"
   ]
  },
  {
   "cell_type": "code",
   "execution_count": 13,
   "metadata": {
    "execution": {
     "iopub.execute_input": "2022-02-01T18:38:35.693625Z",
     "iopub.status.busy": "2022-02-01T18:38:35.693273Z",
     "iopub.status.idle": "2022-02-01T18:38:35.706107Z",
     "shell.execute_reply": "2022-02-01T18:38:35.705383Z",
     "shell.execute_reply.started": "2022-02-01T18:38:35.693588Z"
    }
   },
   "outputs": [],
   "source": [
    "#Lets split the data into train and test before jumping into building different type of matrices required for recommendation.\n",
    "\n",
    "train, test = train_test_split(df_main, test_size=0.20, random_state=41)"
   ]
  },
  {
   "cell_type": "code",
   "execution_count": 14,
   "metadata": {
    "execution": {
     "iopub.execute_input": "2022-02-01T18:38:36.824561Z",
     "iopub.status.busy": "2022-02-01T18:38:36.824045Z",
     "iopub.status.idle": "2022-02-01T18:38:36.831630Z",
     "shell.execute_reply": "2022-02-01T18:38:36.830336Z",
     "shell.execute_reply.started": "2022-02-01T18:38:36.824521Z"
    }
   },
   "outputs": [
    {
     "name": "stdout",
     "output_type": "stream",
     "text": [
      "Shape of train dataset:  (24000, 3)\n",
      "Shape of test dataset:  (6000, 3)\n"
     ]
    }
   ],
   "source": [
    "#Lets check the dimensions of our train and test dataset\n",
    "\n",
    "print(\"Shape of train dataset: \", train.shape)\n",
    "print(\"Shape of test dataset: \", test.shape)"
   ]
  },
  {
   "cell_type": "code",
   "execution_count": 15,
   "metadata": {
    "execution": {
     "iopub.execute_input": "2022-02-01T18:38:37.712568Z",
     "iopub.status.busy": "2022-02-01T18:38:37.712272Z",
     "iopub.status.idle": "2022-02-01T18:38:38.092540Z",
     "shell.execute_reply": "2022-02-01T18:38:38.091270Z",
     "shell.execute_reply.started": "2022-02-01T18:38:37.712537Z"
    }
   },
   "outputs": [
    {
     "data": {
      "text/html": [
       "<div>\n",
       "<style scoped>\n",
       "    .dataframe tbody tr th:only-of-type {\n",
       "        vertical-align: middle;\n",
       "    }\n",
       "\n",
       "    .dataframe tbody tr th {\n",
       "        vertical-align: top;\n",
       "    }\n",
       "\n",
       "    .dataframe thead th {\n",
       "        text-align: right;\n",
       "    }\n",
       "</style>\n",
       "<table border=\"1\" class=\"dataframe\">\n",
       "  <thead>\n",
       "    <tr style=\"text-align: right;\">\n",
       "      <th>product_id</th>\n",
       "      <th>AV13O1A8GV-KLJ3akUyj</th>\n",
       "      <th>AV14LG0R-jtxr-f38QfS</th>\n",
       "      <th>AV16khLE-jtxr-f38VFn</th>\n",
       "      <th>AV1YGDqsGV-KLJ3adc-O</th>\n",
       "      <th>AV1YIch7GV-KLJ3addeG</th>\n",
       "      <th>AV1YlENIglJLPUi8IHsX</th>\n",
       "      <th>AV1YmBrdGV-KLJ3adewb</th>\n",
       "      <th>AV1YmDL9vKc47QAVgr7_</th>\n",
       "      <th>AV1Ymf_rglJLPUi8II2v</th>\n",
       "      <th>AV1Yn94nvKc47QAVgtst</th>\n",
       "      <th>...</th>\n",
       "      <th>AVpfrfHF1cnluZ0-pRai</th>\n",
       "      <th>AVpfrgjFLJeJML43BvCc</th>\n",
       "      <th>AVpfs0tUilAPnD_xgqN2</th>\n",
       "      <th>AVpfsQoeilAPnD_xgfx5</th>\n",
       "      <th>AVpfshNsLJeJML43CB8q</th>\n",
       "      <th>AVpfthSailAPnD_xg3ON</th>\n",
       "      <th>AVpftikC1cnluZ0-p31V</th>\n",
       "      <th>AVpftymALJeJML43CZ6y</th>\n",
       "      <th>AVpfv4TlilAPnD_xhjNS</th>\n",
       "      <th>AVpfvieo1cnluZ0-qdnu</th>\n",
       "    </tr>\n",
       "    <tr>\n",
       "      <th>user</th>\n",
       "      <th></th>\n",
       "      <th></th>\n",
       "      <th></th>\n",
       "      <th></th>\n",
       "      <th></th>\n",
       "      <th></th>\n",
       "      <th></th>\n",
       "      <th></th>\n",
       "      <th></th>\n",
       "      <th></th>\n",
       "      <th></th>\n",
       "      <th></th>\n",
       "      <th></th>\n",
       "      <th></th>\n",
       "      <th></th>\n",
       "      <th></th>\n",
       "      <th></th>\n",
       "      <th></th>\n",
       "      <th></th>\n",
       "      <th></th>\n",
       "      <th></th>\n",
       "    </tr>\n",
       "  </thead>\n",
       "  <tbody>\n",
       "    <tr>\n",
       "      <th>00sab00</th>\n",
       "      <td>0.0</td>\n",
       "      <td>0.0</td>\n",
       "      <td>0.0</td>\n",
       "      <td>0.0</td>\n",
       "      <td>0.0</td>\n",
       "      <td>0.0</td>\n",
       "      <td>0.0</td>\n",
       "      <td>0.0</td>\n",
       "      <td>0.0</td>\n",
       "      <td>0.0</td>\n",
       "      <td>...</td>\n",
       "      <td>0.0</td>\n",
       "      <td>0.0</td>\n",
       "      <td>0.0</td>\n",
       "      <td>0.0</td>\n",
       "      <td>0.0</td>\n",
       "      <td>0.0</td>\n",
       "      <td>0.0</td>\n",
       "      <td>0.0</td>\n",
       "      <td>0.0</td>\n",
       "      <td>0.0</td>\n",
       "    </tr>\n",
       "    <tr>\n",
       "      <th>01impala</th>\n",
       "      <td>0.0</td>\n",
       "      <td>0.0</td>\n",
       "      <td>0.0</td>\n",
       "      <td>0.0</td>\n",
       "      <td>0.0</td>\n",
       "      <td>0.0</td>\n",
       "      <td>0.0</td>\n",
       "      <td>0.0</td>\n",
       "      <td>0.0</td>\n",
       "      <td>0.0</td>\n",
       "      <td>...</td>\n",
       "      <td>0.0</td>\n",
       "      <td>0.0</td>\n",
       "      <td>0.0</td>\n",
       "      <td>0.0</td>\n",
       "      <td>0.0</td>\n",
       "      <td>0.0</td>\n",
       "      <td>0.0</td>\n",
       "      <td>0.0</td>\n",
       "      <td>0.0</td>\n",
       "      <td>0.0</td>\n",
       "    </tr>\n",
       "    <tr>\n",
       "      <th>02deuce</th>\n",
       "      <td>0.0</td>\n",
       "      <td>0.0</td>\n",
       "      <td>0.0</td>\n",
       "      <td>0.0</td>\n",
       "      <td>0.0</td>\n",
       "      <td>0.0</td>\n",
       "      <td>0.0</td>\n",
       "      <td>0.0</td>\n",
       "      <td>0.0</td>\n",
       "      <td>0.0</td>\n",
       "      <td>...</td>\n",
       "      <td>0.0</td>\n",
       "      <td>0.0</td>\n",
       "      <td>0.0</td>\n",
       "      <td>0.0</td>\n",
       "      <td>0.0</td>\n",
       "      <td>0.0</td>\n",
       "      <td>0.0</td>\n",
       "      <td>0.0</td>\n",
       "      <td>0.0</td>\n",
       "      <td>0.0</td>\n",
       "    </tr>\n",
       "    <tr>\n",
       "      <th>06stidriver</th>\n",
       "      <td>0.0</td>\n",
       "      <td>0.0</td>\n",
       "      <td>0.0</td>\n",
       "      <td>0.0</td>\n",
       "      <td>0.0</td>\n",
       "      <td>0.0</td>\n",
       "      <td>0.0</td>\n",
       "      <td>0.0</td>\n",
       "      <td>0.0</td>\n",
       "      <td>0.0</td>\n",
       "      <td>...</td>\n",
       "      <td>0.0</td>\n",
       "      <td>0.0</td>\n",
       "      <td>0.0</td>\n",
       "      <td>0.0</td>\n",
       "      <td>0.0</td>\n",
       "      <td>0.0</td>\n",
       "      <td>0.0</td>\n",
       "      <td>0.0</td>\n",
       "      <td>0.0</td>\n",
       "      <td>0.0</td>\n",
       "    </tr>\n",
       "    <tr>\n",
       "      <th>08dallas</th>\n",
       "      <td>0.0</td>\n",
       "      <td>0.0</td>\n",
       "      <td>0.0</td>\n",
       "      <td>0.0</td>\n",
       "      <td>0.0</td>\n",
       "      <td>0.0</td>\n",
       "      <td>0.0</td>\n",
       "      <td>0.0</td>\n",
       "      <td>0.0</td>\n",
       "      <td>0.0</td>\n",
       "      <td>...</td>\n",
       "      <td>0.0</td>\n",
       "      <td>0.0</td>\n",
       "      <td>0.0</td>\n",
       "      <td>0.0</td>\n",
       "      <td>0.0</td>\n",
       "      <td>0.0</td>\n",
       "      <td>0.0</td>\n",
       "      <td>0.0</td>\n",
       "      <td>0.0</td>\n",
       "      <td>0.0</td>\n",
       "    </tr>\n",
       "    <tr>\n",
       "      <th>...</th>\n",
       "      <td>...</td>\n",
       "      <td>...</td>\n",
       "      <td>...</td>\n",
       "      <td>...</td>\n",
       "      <td>...</td>\n",
       "      <td>...</td>\n",
       "      <td>...</td>\n",
       "      <td>...</td>\n",
       "      <td>...</td>\n",
       "      <td>...</td>\n",
       "      <td>...</td>\n",
       "      <td>...</td>\n",
       "      <td>...</td>\n",
       "      <td>...</td>\n",
       "      <td>...</td>\n",
       "      <td>...</td>\n",
       "      <td>...</td>\n",
       "      <td>...</td>\n",
       "      <td>...</td>\n",
       "      <td>...</td>\n",
       "      <td>...</td>\n",
       "    </tr>\n",
       "    <tr>\n",
       "      <th>zxcsdfd</th>\n",
       "      <td>0.0</td>\n",
       "      <td>0.0</td>\n",
       "      <td>0.0</td>\n",
       "      <td>0.0</td>\n",
       "      <td>0.0</td>\n",
       "      <td>0.0</td>\n",
       "      <td>0.0</td>\n",
       "      <td>0.0</td>\n",
       "      <td>0.0</td>\n",
       "      <td>0.0</td>\n",
       "      <td>...</td>\n",
       "      <td>0.0</td>\n",
       "      <td>0.0</td>\n",
       "      <td>0.0</td>\n",
       "      <td>0.0</td>\n",
       "      <td>0.0</td>\n",
       "      <td>0.0</td>\n",
       "      <td>0.0</td>\n",
       "      <td>0.0</td>\n",
       "      <td>0.0</td>\n",
       "      <td>0.0</td>\n",
       "    </tr>\n",
       "    <tr>\n",
       "      <th>zxjki</th>\n",
       "      <td>0.0</td>\n",
       "      <td>0.0</td>\n",
       "      <td>0.0</td>\n",
       "      <td>0.0</td>\n",
       "      <td>0.0</td>\n",
       "      <td>0.0</td>\n",
       "      <td>0.0</td>\n",
       "      <td>0.0</td>\n",
       "      <td>0.0</td>\n",
       "      <td>0.0</td>\n",
       "      <td>...</td>\n",
       "      <td>0.0</td>\n",
       "      <td>0.0</td>\n",
       "      <td>0.0</td>\n",
       "      <td>0.0</td>\n",
       "      <td>0.0</td>\n",
       "      <td>0.0</td>\n",
       "      <td>0.0</td>\n",
       "      <td>0.0</td>\n",
       "      <td>0.0</td>\n",
       "      <td>0.0</td>\n",
       "    </tr>\n",
       "    <tr>\n",
       "      <th>zyiah4</th>\n",
       "      <td>0.0</td>\n",
       "      <td>0.0</td>\n",
       "      <td>0.0</td>\n",
       "      <td>0.0</td>\n",
       "      <td>0.0</td>\n",
       "      <td>0.0</td>\n",
       "      <td>0.0</td>\n",
       "      <td>0.0</td>\n",
       "      <td>0.0</td>\n",
       "      <td>0.0</td>\n",
       "      <td>...</td>\n",
       "      <td>0.0</td>\n",
       "      <td>0.0</td>\n",
       "      <td>0.0</td>\n",
       "      <td>0.0</td>\n",
       "      <td>0.0</td>\n",
       "      <td>0.0</td>\n",
       "      <td>0.0</td>\n",
       "      <td>0.0</td>\n",
       "      <td>0.0</td>\n",
       "      <td>0.0</td>\n",
       "    </tr>\n",
       "    <tr>\n",
       "      <th>zzdiane</th>\n",
       "      <td>0.0</td>\n",
       "      <td>0.0</td>\n",
       "      <td>0.0</td>\n",
       "      <td>0.0</td>\n",
       "      <td>0.0</td>\n",
       "      <td>0.0</td>\n",
       "      <td>0.0</td>\n",
       "      <td>0.0</td>\n",
       "      <td>0.0</td>\n",
       "      <td>0.0</td>\n",
       "      <td>...</td>\n",
       "      <td>0.0</td>\n",
       "      <td>0.0</td>\n",
       "      <td>0.0</td>\n",
       "      <td>0.0</td>\n",
       "      <td>0.0</td>\n",
       "      <td>0.0</td>\n",
       "      <td>0.0</td>\n",
       "      <td>0.0</td>\n",
       "      <td>0.0</td>\n",
       "      <td>0.0</td>\n",
       "    </tr>\n",
       "    <tr>\n",
       "      <th>zzz1127</th>\n",
       "      <td>0.0</td>\n",
       "      <td>0.0</td>\n",
       "      <td>0.0</td>\n",
       "      <td>0.0</td>\n",
       "      <td>0.0</td>\n",
       "      <td>0.0</td>\n",
       "      <td>0.0</td>\n",
       "      <td>0.0</td>\n",
       "      <td>0.0</td>\n",
       "      <td>0.0</td>\n",
       "      <td>...</td>\n",
       "      <td>0.0</td>\n",
       "      <td>0.0</td>\n",
       "      <td>0.0</td>\n",
       "      <td>0.0</td>\n",
       "      <td>0.0</td>\n",
       "      <td>0.0</td>\n",
       "      <td>0.0</td>\n",
       "      <td>0.0</td>\n",
       "      <td>0.0</td>\n",
       "      <td>0.0</td>\n",
       "    </tr>\n",
       "  </tbody>\n",
       "</table>\n",
       "<p>20526 rows × 264 columns</p>\n",
       "</div>"
      ],
      "text/plain": [
       "product_id   AV13O1A8GV-KLJ3akUyj  AV14LG0R-jtxr-f38QfS  AV16khLE-jtxr-f38VFn  \\\n",
       "user                                                                            \n",
       "00sab00                       0.0                   0.0                   0.0   \n",
       "01impala                      0.0                   0.0                   0.0   \n",
       "02deuce                       0.0                   0.0                   0.0   \n",
       "06stidriver                   0.0                   0.0                   0.0   \n",
       "08dallas                      0.0                   0.0                   0.0   \n",
       "...                           ...                   ...                   ...   \n",
       "zxcsdfd                       0.0                   0.0                   0.0   \n",
       "zxjki                         0.0                   0.0                   0.0   \n",
       "zyiah4                        0.0                   0.0                   0.0   \n",
       "zzdiane                       0.0                   0.0                   0.0   \n",
       "zzz1127                       0.0                   0.0                   0.0   \n",
       "\n",
       "product_id   AV1YGDqsGV-KLJ3adc-O  AV1YIch7GV-KLJ3addeG  AV1YlENIglJLPUi8IHsX  \\\n",
       "user                                                                            \n",
       "00sab00                       0.0                   0.0                   0.0   \n",
       "01impala                      0.0                   0.0                   0.0   \n",
       "02deuce                       0.0                   0.0                   0.0   \n",
       "06stidriver                   0.0                   0.0                   0.0   \n",
       "08dallas                      0.0                   0.0                   0.0   \n",
       "...                           ...                   ...                   ...   \n",
       "zxcsdfd                       0.0                   0.0                   0.0   \n",
       "zxjki                         0.0                   0.0                   0.0   \n",
       "zyiah4                        0.0                   0.0                   0.0   \n",
       "zzdiane                       0.0                   0.0                   0.0   \n",
       "zzz1127                       0.0                   0.0                   0.0   \n",
       "\n",
       "product_id   AV1YmBrdGV-KLJ3adewb  AV1YmDL9vKc47QAVgr7_  AV1Ymf_rglJLPUi8II2v  \\\n",
       "user                                                                            \n",
       "00sab00                       0.0                   0.0                   0.0   \n",
       "01impala                      0.0                   0.0                   0.0   \n",
       "02deuce                       0.0                   0.0                   0.0   \n",
       "06stidriver                   0.0                   0.0                   0.0   \n",
       "08dallas                      0.0                   0.0                   0.0   \n",
       "...                           ...                   ...                   ...   \n",
       "zxcsdfd                       0.0                   0.0                   0.0   \n",
       "zxjki                         0.0                   0.0                   0.0   \n",
       "zyiah4                        0.0                   0.0                   0.0   \n",
       "zzdiane                       0.0                   0.0                   0.0   \n",
       "zzz1127                       0.0                   0.0                   0.0   \n",
       "\n",
       "product_id   AV1Yn94nvKc47QAVgtst  ...  AVpfrfHF1cnluZ0-pRai  \\\n",
       "user                               ...                         \n",
       "00sab00                       0.0  ...                   0.0   \n",
       "01impala                      0.0  ...                   0.0   \n",
       "02deuce                       0.0  ...                   0.0   \n",
       "06stidriver                   0.0  ...                   0.0   \n",
       "08dallas                      0.0  ...                   0.0   \n",
       "...                           ...  ...                   ...   \n",
       "zxcsdfd                       0.0  ...                   0.0   \n",
       "zxjki                         0.0  ...                   0.0   \n",
       "zyiah4                        0.0  ...                   0.0   \n",
       "zzdiane                       0.0  ...                   0.0   \n",
       "zzz1127                       0.0  ...                   0.0   \n",
       "\n",
       "product_id   AVpfrgjFLJeJML43BvCc  AVpfs0tUilAPnD_xgqN2  AVpfsQoeilAPnD_xgfx5  \\\n",
       "user                                                                            \n",
       "00sab00                       0.0                   0.0                   0.0   \n",
       "01impala                      0.0                   0.0                   0.0   \n",
       "02deuce                       0.0                   0.0                   0.0   \n",
       "06stidriver                   0.0                   0.0                   0.0   \n",
       "08dallas                      0.0                   0.0                   0.0   \n",
       "...                           ...                   ...                   ...   \n",
       "zxcsdfd                       0.0                   0.0                   0.0   \n",
       "zxjki                         0.0                   0.0                   0.0   \n",
       "zyiah4                        0.0                   0.0                   0.0   \n",
       "zzdiane                       0.0                   0.0                   0.0   \n",
       "zzz1127                       0.0                   0.0                   0.0   \n",
       "\n",
       "product_id   AVpfshNsLJeJML43CB8q  AVpfthSailAPnD_xg3ON  AVpftikC1cnluZ0-p31V  \\\n",
       "user                                                                            \n",
       "00sab00                       0.0                   0.0                   0.0   \n",
       "01impala                      0.0                   0.0                   0.0   \n",
       "02deuce                       0.0                   0.0                   0.0   \n",
       "06stidriver                   0.0                   0.0                   0.0   \n",
       "08dallas                      0.0                   0.0                   0.0   \n",
       "...                           ...                   ...                   ...   \n",
       "zxcsdfd                       0.0                   0.0                   0.0   \n",
       "zxjki                         0.0                   0.0                   0.0   \n",
       "zyiah4                        0.0                   0.0                   0.0   \n",
       "zzdiane                       0.0                   0.0                   0.0   \n",
       "zzz1127                       0.0                   0.0                   0.0   \n",
       "\n",
       "product_id   AVpftymALJeJML43CZ6y  AVpfv4TlilAPnD_xhjNS  AVpfvieo1cnluZ0-qdnu  \n",
       "user                                                                           \n",
       "00sab00                       0.0                   0.0                   0.0  \n",
       "01impala                      0.0                   0.0                   0.0  \n",
       "02deuce                       0.0                   0.0                   0.0  \n",
       "06stidriver                   0.0                   0.0                   0.0  \n",
       "08dallas                      0.0                   0.0                   0.0  \n",
       "...                           ...                   ...                   ...  \n",
       "zxcsdfd                       0.0                   0.0                   0.0  \n",
       "zxjki                         0.0                   0.0                   0.0  \n",
       "zyiah4                        0.0                   0.0                   0.0  \n",
       "zzdiane                       0.0                   0.0                   0.0  \n",
       "zzz1127                       0.0                   0.0                   0.0  \n",
       "\n",
       "[20526 rows x 264 columns]"
      ]
     },
     "execution_count": 15,
     "metadata": {},
     "output_type": "execute_result"
    }
   ],
   "source": [
    "#Lets create a pivot table for user vs product rating to get a basic idea\n",
    "\n",
    "df_pivot = train.pivot_table(\n",
    "    index = 'user',\n",
    "    columns = \"product_id\",\n",
    "    values = 'ratings'\n",
    ").fillna(0)\n",
    "\n",
    "df_pivot"
   ]
  },
  {
   "cell_type": "markdown",
   "metadata": {},
   "source": [
    "As we can see, the ‘df_pivot’ dataframe contains the column header with product id, the row header/index with user id, and the values with the corresponding ratings given by the user corresponding to the products."
   ]
  },
  {
   "cell_type": "markdown",
   "metadata": {},
   "source": [
    "### Creating dummy train & dummy test dataset\n",
    "\n",
    "In the process of building a recommendation system, we do not want to recommend a product that the user has already rated or in some cases has performed some action on it such as view, like, share or comment. To eliminate these products from the recommendation list, you will need to take the help of a ‘dummy data set’.\n",
    "\n",
    "Dummy train will be used later for prediction of the products which has not been rated by the user. To ignore the products rated by the user, we will mark it as 0 during prediction. The products not rated by user is marked as 1 for prediction in dummy train dataset.\n",
    "\n",
    "Dummy test will be used for evaluation. To evaluate, we will only make prediction on the products rated by the user. So, this is marked as 1. This is just opposite of dummy_train."
   ]
  },
  {
   "cell_type": "code",
   "execution_count": 16,
   "metadata": {
    "execution": {
     "iopub.execute_input": "2022-02-01T18:38:50.125666Z",
     "iopub.status.busy": "2022-02-01T18:38:50.125289Z",
     "iopub.status.idle": "2022-02-01T18:38:50.425822Z",
     "shell.execute_reply": "2022-02-01T18:38:50.425185Z",
     "shell.execute_reply.started": "2022-02-01T18:38:50.125627Z"
    }
   },
   "outputs": [
    {
     "data": {
      "text/html": [
       "<div>\n",
       "<style scoped>\n",
       "    .dataframe tbody tr th:only-of-type {\n",
       "        vertical-align: middle;\n",
       "    }\n",
       "\n",
       "    .dataframe tbody tr th {\n",
       "        vertical-align: top;\n",
       "    }\n",
       "\n",
       "    .dataframe thead th {\n",
       "        text-align: right;\n",
       "    }\n",
       "</style>\n",
       "<table border=\"1\" class=\"dataframe\">\n",
       "  <thead>\n",
       "    <tr style=\"text-align: right;\">\n",
       "      <th>product_id</th>\n",
       "      <th>AV13O1A8GV-KLJ3akUyj</th>\n",
       "      <th>AV14LG0R-jtxr-f38QfS</th>\n",
       "      <th>AV16khLE-jtxr-f38VFn</th>\n",
       "      <th>AV1YGDqsGV-KLJ3adc-O</th>\n",
       "      <th>AV1YIch7GV-KLJ3addeG</th>\n",
       "      <th>AV1YlENIglJLPUi8IHsX</th>\n",
       "      <th>AV1YmBrdGV-KLJ3adewb</th>\n",
       "      <th>AV1YmDL9vKc47QAVgr7_</th>\n",
       "      <th>AV1Ymf_rglJLPUi8II2v</th>\n",
       "      <th>AV1Yn94nvKc47QAVgtst</th>\n",
       "      <th>...</th>\n",
       "      <th>AVpfrfHF1cnluZ0-pRai</th>\n",
       "      <th>AVpfrgjFLJeJML43BvCc</th>\n",
       "      <th>AVpfs0tUilAPnD_xgqN2</th>\n",
       "      <th>AVpfsQoeilAPnD_xgfx5</th>\n",
       "      <th>AVpfshNsLJeJML43CB8q</th>\n",
       "      <th>AVpfthSailAPnD_xg3ON</th>\n",
       "      <th>AVpftikC1cnluZ0-p31V</th>\n",
       "      <th>AVpftymALJeJML43CZ6y</th>\n",
       "      <th>AVpfv4TlilAPnD_xhjNS</th>\n",
       "      <th>AVpfvieo1cnluZ0-qdnu</th>\n",
       "    </tr>\n",
       "    <tr>\n",
       "      <th>user</th>\n",
       "      <th></th>\n",
       "      <th></th>\n",
       "      <th></th>\n",
       "      <th></th>\n",
       "      <th></th>\n",
       "      <th></th>\n",
       "      <th></th>\n",
       "      <th></th>\n",
       "      <th></th>\n",
       "      <th></th>\n",
       "      <th></th>\n",
       "      <th></th>\n",
       "      <th></th>\n",
       "      <th></th>\n",
       "      <th></th>\n",
       "      <th></th>\n",
       "      <th></th>\n",
       "      <th></th>\n",
       "      <th></th>\n",
       "      <th></th>\n",
       "      <th></th>\n",
       "    </tr>\n",
       "  </thead>\n",
       "  <tbody>\n",
       "    <tr>\n",
       "      <th>00sab00</th>\n",
       "      <td>1.0</td>\n",
       "      <td>1.0</td>\n",
       "      <td>1.0</td>\n",
       "      <td>1.0</td>\n",
       "      <td>1.0</td>\n",
       "      <td>1.0</td>\n",
       "      <td>1.0</td>\n",
       "      <td>1.0</td>\n",
       "      <td>1.0</td>\n",
       "      <td>1.0</td>\n",
       "      <td>...</td>\n",
       "      <td>1.0</td>\n",
       "      <td>1.0</td>\n",
       "      <td>1.0</td>\n",
       "      <td>1.0</td>\n",
       "      <td>1.0</td>\n",
       "      <td>1.0</td>\n",
       "      <td>1.0</td>\n",
       "      <td>1.0</td>\n",
       "      <td>1.0</td>\n",
       "      <td>1.0</td>\n",
       "    </tr>\n",
       "    <tr>\n",
       "      <th>01impala</th>\n",
       "      <td>1.0</td>\n",
       "      <td>1.0</td>\n",
       "      <td>1.0</td>\n",
       "      <td>1.0</td>\n",
       "      <td>1.0</td>\n",
       "      <td>1.0</td>\n",
       "      <td>1.0</td>\n",
       "      <td>1.0</td>\n",
       "      <td>1.0</td>\n",
       "      <td>1.0</td>\n",
       "      <td>...</td>\n",
       "      <td>1.0</td>\n",
       "      <td>1.0</td>\n",
       "      <td>1.0</td>\n",
       "      <td>1.0</td>\n",
       "      <td>1.0</td>\n",
       "      <td>1.0</td>\n",
       "      <td>1.0</td>\n",
       "      <td>1.0</td>\n",
       "      <td>1.0</td>\n",
       "      <td>1.0</td>\n",
       "    </tr>\n",
       "    <tr>\n",
       "      <th>02deuce</th>\n",
       "      <td>1.0</td>\n",
       "      <td>1.0</td>\n",
       "      <td>1.0</td>\n",
       "      <td>1.0</td>\n",
       "      <td>1.0</td>\n",
       "      <td>1.0</td>\n",
       "      <td>1.0</td>\n",
       "      <td>1.0</td>\n",
       "      <td>1.0</td>\n",
       "      <td>1.0</td>\n",
       "      <td>...</td>\n",
       "      <td>1.0</td>\n",
       "      <td>1.0</td>\n",
       "      <td>1.0</td>\n",
       "      <td>1.0</td>\n",
       "      <td>1.0</td>\n",
       "      <td>1.0</td>\n",
       "      <td>1.0</td>\n",
       "      <td>1.0</td>\n",
       "      <td>1.0</td>\n",
       "      <td>1.0</td>\n",
       "    </tr>\n",
       "    <tr>\n",
       "      <th>06stidriver</th>\n",
       "      <td>1.0</td>\n",
       "      <td>1.0</td>\n",
       "      <td>1.0</td>\n",
       "      <td>1.0</td>\n",
       "      <td>1.0</td>\n",
       "      <td>1.0</td>\n",
       "      <td>1.0</td>\n",
       "      <td>1.0</td>\n",
       "      <td>1.0</td>\n",
       "      <td>1.0</td>\n",
       "      <td>...</td>\n",
       "      <td>1.0</td>\n",
       "      <td>1.0</td>\n",
       "      <td>1.0</td>\n",
       "      <td>1.0</td>\n",
       "      <td>1.0</td>\n",
       "      <td>1.0</td>\n",
       "      <td>1.0</td>\n",
       "      <td>1.0</td>\n",
       "      <td>1.0</td>\n",
       "      <td>1.0</td>\n",
       "    </tr>\n",
       "    <tr>\n",
       "      <th>08dallas</th>\n",
       "      <td>1.0</td>\n",
       "      <td>1.0</td>\n",
       "      <td>1.0</td>\n",
       "      <td>1.0</td>\n",
       "      <td>1.0</td>\n",
       "      <td>1.0</td>\n",
       "      <td>1.0</td>\n",
       "      <td>1.0</td>\n",
       "      <td>1.0</td>\n",
       "      <td>1.0</td>\n",
       "      <td>...</td>\n",
       "      <td>1.0</td>\n",
       "      <td>1.0</td>\n",
       "      <td>1.0</td>\n",
       "      <td>1.0</td>\n",
       "      <td>1.0</td>\n",
       "      <td>1.0</td>\n",
       "      <td>1.0</td>\n",
       "      <td>1.0</td>\n",
       "      <td>1.0</td>\n",
       "      <td>1.0</td>\n",
       "    </tr>\n",
       "    <tr>\n",
       "      <th>...</th>\n",
       "      <td>...</td>\n",
       "      <td>...</td>\n",
       "      <td>...</td>\n",
       "      <td>...</td>\n",
       "      <td>...</td>\n",
       "      <td>...</td>\n",
       "      <td>...</td>\n",
       "      <td>...</td>\n",
       "      <td>...</td>\n",
       "      <td>...</td>\n",
       "      <td>...</td>\n",
       "      <td>...</td>\n",
       "      <td>...</td>\n",
       "      <td>...</td>\n",
       "      <td>...</td>\n",
       "      <td>...</td>\n",
       "      <td>...</td>\n",
       "      <td>...</td>\n",
       "      <td>...</td>\n",
       "      <td>...</td>\n",
       "      <td>...</td>\n",
       "    </tr>\n",
       "    <tr>\n",
       "      <th>zxcsdfd</th>\n",
       "      <td>1.0</td>\n",
       "      <td>1.0</td>\n",
       "      <td>1.0</td>\n",
       "      <td>1.0</td>\n",
       "      <td>1.0</td>\n",
       "      <td>1.0</td>\n",
       "      <td>1.0</td>\n",
       "      <td>1.0</td>\n",
       "      <td>1.0</td>\n",
       "      <td>1.0</td>\n",
       "      <td>...</td>\n",
       "      <td>1.0</td>\n",
       "      <td>1.0</td>\n",
       "      <td>1.0</td>\n",
       "      <td>1.0</td>\n",
       "      <td>1.0</td>\n",
       "      <td>1.0</td>\n",
       "      <td>1.0</td>\n",
       "      <td>1.0</td>\n",
       "      <td>1.0</td>\n",
       "      <td>1.0</td>\n",
       "    </tr>\n",
       "    <tr>\n",
       "      <th>zxjki</th>\n",
       "      <td>1.0</td>\n",
       "      <td>1.0</td>\n",
       "      <td>1.0</td>\n",
       "      <td>1.0</td>\n",
       "      <td>1.0</td>\n",
       "      <td>1.0</td>\n",
       "      <td>1.0</td>\n",
       "      <td>1.0</td>\n",
       "      <td>1.0</td>\n",
       "      <td>1.0</td>\n",
       "      <td>...</td>\n",
       "      <td>1.0</td>\n",
       "      <td>1.0</td>\n",
       "      <td>1.0</td>\n",
       "      <td>1.0</td>\n",
       "      <td>1.0</td>\n",
       "      <td>1.0</td>\n",
       "      <td>1.0</td>\n",
       "      <td>1.0</td>\n",
       "      <td>1.0</td>\n",
       "      <td>1.0</td>\n",
       "    </tr>\n",
       "    <tr>\n",
       "      <th>zyiah4</th>\n",
       "      <td>1.0</td>\n",
       "      <td>1.0</td>\n",
       "      <td>1.0</td>\n",
       "      <td>1.0</td>\n",
       "      <td>1.0</td>\n",
       "      <td>1.0</td>\n",
       "      <td>1.0</td>\n",
       "      <td>1.0</td>\n",
       "      <td>1.0</td>\n",
       "      <td>1.0</td>\n",
       "      <td>...</td>\n",
       "      <td>1.0</td>\n",
       "      <td>1.0</td>\n",
       "      <td>1.0</td>\n",
       "      <td>1.0</td>\n",
       "      <td>1.0</td>\n",
       "      <td>1.0</td>\n",
       "      <td>1.0</td>\n",
       "      <td>1.0</td>\n",
       "      <td>1.0</td>\n",
       "      <td>1.0</td>\n",
       "    </tr>\n",
       "    <tr>\n",
       "      <th>zzdiane</th>\n",
       "      <td>1.0</td>\n",
       "      <td>1.0</td>\n",
       "      <td>1.0</td>\n",
       "      <td>1.0</td>\n",
       "      <td>1.0</td>\n",
       "      <td>1.0</td>\n",
       "      <td>1.0</td>\n",
       "      <td>1.0</td>\n",
       "      <td>1.0</td>\n",
       "      <td>1.0</td>\n",
       "      <td>...</td>\n",
       "      <td>1.0</td>\n",
       "      <td>1.0</td>\n",
       "      <td>1.0</td>\n",
       "      <td>1.0</td>\n",
       "      <td>1.0</td>\n",
       "      <td>1.0</td>\n",
       "      <td>1.0</td>\n",
       "      <td>1.0</td>\n",
       "      <td>1.0</td>\n",
       "      <td>1.0</td>\n",
       "    </tr>\n",
       "    <tr>\n",
       "      <th>zzz1127</th>\n",
       "      <td>1.0</td>\n",
       "      <td>1.0</td>\n",
       "      <td>1.0</td>\n",
       "      <td>1.0</td>\n",
       "      <td>1.0</td>\n",
       "      <td>1.0</td>\n",
       "      <td>1.0</td>\n",
       "      <td>1.0</td>\n",
       "      <td>1.0</td>\n",
       "      <td>1.0</td>\n",
       "      <td>...</td>\n",
       "      <td>1.0</td>\n",
       "      <td>1.0</td>\n",
       "      <td>1.0</td>\n",
       "      <td>1.0</td>\n",
       "      <td>1.0</td>\n",
       "      <td>1.0</td>\n",
       "      <td>1.0</td>\n",
       "      <td>1.0</td>\n",
       "      <td>1.0</td>\n",
       "      <td>1.0</td>\n",
       "    </tr>\n",
       "  </tbody>\n",
       "</table>\n",
       "<p>20526 rows × 264 columns</p>\n",
       "</div>"
      ],
      "text/plain": [
       "product_id   AV13O1A8GV-KLJ3akUyj  AV14LG0R-jtxr-f38QfS  AV16khLE-jtxr-f38VFn  \\\n",
       "user                                                                            \n",
       "00sab00                       1.0                   1.0                   1.0   \n",
       "01impala                      1.0                   1.0                   1.0   \n",
       "02deuce                       1.0                   1.0                   1.0   \n",
       "06stidriver                   1.0                   1.0                   1.0   \n",
       "08dallas                      1.0                   1.0                   1.0   \n",
       "...                           ...                   ...                   ...   \n",
       "zxcsdfd                       1.0                   1.0                   1.0   \n",
       "zxjki                         1.0                   1.0                   1.0   \n",
       "zyiah4                        1.0                   1.0                   1.0   \n",
       "zzdiane                       1.0                   1.0                   1.0   \n",
       "zzz1127                       1.0                   1.0                   1.0   \n",
       "\n",
       "product_id   AV1YGDqsGV-KLJ3adc-O  AV1YIch7GV-KLJ3addeG  AV1YlENIglJLPUi8IHsX  \\\n",
       "user                                                                            \n",
       "00sab00                       1.0                   1.0                   1.0   \n",
       "01impala                      1.0                   1.0                   1.0   \n",
       "02deuce                       1.0                   1.0                   1.0   \n",
       "06stidriver                   1.0                   1.0                   1.0   \n",
       "08dallas                      1.0                   1.0                   1.0   \n",
       "...                           ...                   ...                   ...   \n",
       "zxcsdfd                       1.0                   1.0                   1.0   \n",
       "zxjki                         1.0                   1.0                   1.0   \n",
       "zyiah4                        1.0                   1.0                   1.0   \n",
       "zzdiane                       1.0                   1.0                   1.0   \n",
       "zzz1127                       1.0                   1.0                   1.0   \n",
       "\n",
       "product_id   AV1YmBrdGV-KLJ3adewb  AV1YmDL9vKc47QAVgr7_  AV1Ymf_rglJLPUi8II2v  \\\n",
       "user                                                                            \n",
       "00sab00                       1.0                   1.0                   1.0   \n",
       "01impala                      1.0                   1.0                   1.0   \n",
       "02deuce                       1.0                   1.0                   1.0   \n",
       "06stidriver                   1.0                   1.0                   1.0   \n",
       "08dallas                      1.0                   1.0                   1.0   \n",
       "...                           ...                   ...                   ...   \n",
       "zxcsdfd                       1.0                   1.0                   1.0   \n",
       "zxjki                         1.0                   1.0                   1.0   \n",
       "zyiah4                        1.0                   1.0                   1.0   \n",
       "zzdiane                       1.0                   1.0                   1.0   \n",
       "zzz1127                       1.0                   1.0                   1.0   \n",
       "\n",
       "product_id   AV1Yn94nvKc47QAVgtst  ...  AVpfrfHF1cnluZ0-pRai  \\\n",
       "user                               ...                         \n",
       "00sab00                       1.0  ...                   1.0   \n",
       "01impala                      1.0  ...                   1.0   \n",
       "02deuce                       1.0  ...                   1.0   \n",
       "06stidriver                   1.0  ...                   1.0   \n",
       "08dallas                      1.0  ...                   1.0   \n",
       "...                           ...  ...                   ...   \n",
       "zxcsdfd                       1.0  ...                   1.0   \n",
       "zxjki                         1.0  ...                   1.0   \n",
       "zyiah4                        1.0  ...                   1.0   \n",
       "zzdiane                       1.0  ...                   1.0   \n",
       "zzz1127                       1.0  ...                   1.0   \n",
       "\n",
       "product_id   AVpfrgjFLJeJML43BvCc  AVpfs0tUilAPnD_xgqN2  AVpfsQoeilAPnD_xgfx5  \\\n",
       "user                                                                            \n",
       "00sab00                       1.0                   1.0                   1.0   \n",
       "01impala                      1.0                   1.0                   1.0   \n",
       "02deuce                       1.0                   1.0                   1.0   \n",
       "06stidriver                   1.0                   1.0                   1.0   \n",
       "08dallas                      1.0                   1.0                   1.0   \n",
       "...                           ...                   ...                   ...   \n",
       "zxcsdfd                       1.0                   1.0                   1.0   \n",
       "zxjki                         1.0                   1.0                   1.0   \n",
       "zyiah4                        1.0                   1.0                   1.0   \n",
       "zzdiane                       1.0                   1.0                   1.0   \n",
       "zzz1127                       1.0                   1.0                   1.0   \n",
       "\n",
       "product_id   AVpfshNsLJeJML43CB8q  AVpfthSailAPnD_xg3ON  AVpftikC1cnluZ0-p31V  \\\n",
       "user                                                                            \n",
       "00sab00                       1.0                   1.0                   1.0   \n",
       "01impala                      1.0                   1.0                   1.0   \n",
       "02deuce                       1.0                   1.0                   1.0   \n",
       "06stidriver                   1.0                   1.0                   1.0   \n",
       "08dallas                      1.0                   1.0                   1.0   \n",
       "...                           ...                   ...                   ...   \n",
       "zxcsdfd                       1.0                   1.0                   1.0   \n",
       "zxjki                         1.0                   1.0                   1.0   \n",
       "zyiah4                        1.0                   1.0                   1.0   \n",
       "zzdiane                       1.0                   1.0                   1.0   \n",
       "zzz1127                       1.0                   1.0                   1.0   \n",
       "\n",
       "product_id   AVpftymALJeJML43CZ6y  AVpfv4TlilAPnD_xhjNS  AVpfvieo1cnluZ0-qdnu  \n",
       "user                                                                           \n",
       "00sab00                       1.0                   1.0                   1.0  \n",
       "01impala                      1.0                   1.0                   1.0  \n",
       "02deuce                       1.0                   1.0                   1.0  \n",
       "06stidriver                   1.0                   1.0                   1.0  \n",
       "08dallas                      1.0                   1.0                   1.0  \n",
       "...                           ...                   ...                   ...  \n",
       "zxcsdfd                       1.0                   1.0                   1.0  \n",
       "zxjki                         1.0                   1.0                   1.0  \n",
       "zyiah4                        1.0                   1.0                   1.0  \n",
       "zzdiane                       1.0                   1.0                   1.0  \n",
       "zzz1127                       1.0                   1.0                   1.0  \n",
       "\n",
       "[20526 rows x 264 columns]"
      ]
     },
     "execution_count": 16,
     "metadata": {},
     "output_type": "execute_result"
    }
   ],
   "source": [
    "# Creating the dummy_train dataset\n",
    "# 1. take a copy of train data in a new df\n",
    "# 2. The products not rated by user is marked as 1 \n",
    "# 3. Convert the dummy train dataset into matrix format\n",
    "\n",
    "\n",
    "dummy_train = train.copy()\n",
    "\n",
    "dummy_train['ratings'] = dummy_train['ratings'].apply(lambda x: 0 if x>=1 else 1)\n",
    "\n",
    "dummy_train = dummy_train.pivot_table(\n",
    "    index='user',\n",
    "    columns='product_id',\n",
    "    values='ratings'\n",
    ").fillna(1)\n",
    "\n",
    "dummy_train"
   ]
  },
  {
   "cell_type": "markdown",
   "metadata": {},
   "source": [
    "Now we need to create user similarity matrix for which we will be using pairwise_distance. We will use the following two approaches:\n",
    "\n",
    "a. Cosine Similarity\n",
    "\n",
    "b. Adjusted Cosine Similarity"
   ]
  },
  {
   "cell_type": "code",
   "execution_count": 17,
   "metadata": {
    "execution": {
     "iopub.execute_input": "2022-02-01T18:38:53.097348Z",
     "iopub.status.busy": "2022-02-01T18:38:53.096318Z",
     "iopub.status.idle": "2022-02-01T18:39:05.696764Z",
     "shell.execute_reply": "2022-02-01T18:39:05.695464Z",
     "shell.execute_reply.started": "2022-02-01T18:38:53.097298Z"
    }
   },
   "outputs": [
    {
     "name": "stdout",
     "output_type": "stream",
     "text": [
      "[[1.        0.        0.        ... 0.        0.9486833 0.       ]\n",
      " [0.        1.        1.        ... 0.        0.        0.       ]\n",
      " [0.        1.        1.        ... 0.        0.        0.       ]\n",
      " ...\n",
      " [0.        0.        0.        ... 1.        0.        1.       ]\n",
      " [0.9486833 0.        0.        ... 0.        1.        0.       ]\n",
      " [0.        0.        0.        ... 1.        0.        1.       ]]\n"
     ]
    }
   ],
   "source": [
    "# Creating the User Similarity Matrix using pairwise_distance function and metric will be COSINE.\n",
    "\n",
    "user_correlation = 1 - pairwise_distances(df_pivot, metric='cosine')\n",
    "user_correlation[np.isnan(user_correlation)] = 0\n",
    "print(user_correlation)"
   ]
  },
  {
   "cell_type": "code",
   "execution_count": 18,
   "metadata": {
    "execution": {
     "iopub.execute_input": "2022-02-01T18:39:13.196606Z",
     "iopub.status.busy": "2022-02-01T18:39:13.195991Z",
     "iopub.status.idle": "2022-02-01T18:39:13.203893Z",
     "shell.execute_reply": "2022-02-01T18:39:13.202768Z",
     "shell.execute_reply.started": "2022-02-01T18:39:13.196568Z"
    }
   },
   "outputs": [
    {
     "data": {
      "text/plain": [
       "(20526, 20526)"
      ]
     },
     "execution_count": 18,
     "metadata": {},
     "output_type": "execute_result"
    }
   ],
   "source": [
    "#Letscheck shape of our user similarity matrix\n",
    "\n",
    "user_correlation.shape"
   ]
  },
  {
   "cell_type": "code",
   "execution_count": 19,
   "metadata": {
    "execution": {
     "iopub.execute_input": "2022-02-01T18:39:14.237139Z",
     "iopub.status.busy": "2022-02-01T18:39:14.236218Z",
     "iopub.status.idle": "2022-02-01T18:39:14.512177Z",
     "shell.execute_reply": "2022-02-01T18:39:14.510759Z",
     "shell.execute_reply.started": "2022-02-01T18:39:14.237083Z"
    }
   },
   "outputs": [
    {
     "data": {
      "text/html": [
       "<div>\n",
       "<style scoped>\n",
       "    .dataframe tbody tr th:only-of-type {\n",
       "        vertical-align: middle;\n",
       "    }\n",
       "\n",
       "    .dataframe tbody tr th {\n",
       "        vertical-align: top;\n",
       "    }\n",
       "\n",
       "    .dataframe thead th {\n",
       "        text-align: right;\n",
       "    }\n",
       "</style>\n",
       "<table border=\"1\" class=\"dataframe\">\n",
       "  <thead>\n",
       "    <tr style=\"text-align: right;\">\n",
       "      <th>product_id</th>\n",
       "      <th>AV13O1A8GV-KLJ3akUyj</th>\n",
       "      <th>AV14LG0R-jtxr-f38QfS</th>\n",
       "      <th>AV16khLE-jtxr-f38VFn</th>\n",
       "      <th>AV1YGDqsGV-KLJ3adc-O</th>\n",
       "      <th>AV1YIch7GV-KLJ3addeG</th>\n",
       "      <th>AV1YlENIglJLPUi8IHsX</th>\n",
       "      <th>AV1YmBrdGV-KLJ3adewb</th>\n",
       "      <th>AV1YmDL9vKc47QAVgr7_</th>\n",
       "      <th>AV1Ymf_rglJLPUi8II2v</th>\n",
       "      <th>AV1Yn94nvKc47QAVgtst</th>\n",
       "      <th>...</th>\n",
       "      <th>AVpfrfHF1cnluZ0-pRai</th>\n",
       "      <th>AVpfrgjFLJeJML43BvCc</th>\n",
       "      <th>AVpfs0tUilAPnD_xgqN2</th>\n",
       "      <th>AVpfsQoeilAPnD_xgfx5</th>\n",
       "      <th>AVpfshNsLJeJML43CB8q</th>\n",
       "      <th>AVpfthSailAPnD_xg3ON</th>\n",
       "      <th>AVpftikC1cnluZ0-p31V</th>\n",
       "      <th>AVpftymALJeJML43CZ6y</th>\n",
       "      <th>AVpfv4TlilAPnD_xhjNS</th>\n",
       "      <th>AVpfvieo1cnluZ0-qdnu</th>\n",
       "    </tr>\n",
       "    <tr>\n",
       "      <th>user</th>\n",
       "      <th></th>\n",
       "      <th></th>\n",
       "      <th></th>\n",
       "      <th></th>\n",
       "      <th></th>\n",
       "      <th></th>\n",
       "      <th></th>\n",
       "      <th></th>\n",
       "      <th></th>\n",
       "      <th></th>\n",
       "      <th></th>\n",
       "      <th></th>\n",
       "      <th></th>\n",
       "      <th></th>\n",
       "      <th></th>\n",
       "      <th></th>\n",
       "      <th></th>\n",
       "      <th></th>\n",
       "      <th></th>\n",
       "      <th></th>\n",
       "      <th></th>\n",
       "    </tr>\n",
       "  </thead>\n",
       "  <tbody>\n",
       "    <tr>\n",
       "      <th>00sab00</th>\n",
       "      <td>NaN</td>\n",
       "      <td>NaN</td>\n",
       "      <td>NaN</td>\n",
       "      <td>NaN</td>\n",
       "      <td>NaN</td>\n",
       "      <td>NaN</td>\n",
       "      <td>NaN</td>\n",
       "      <td>NaN</td>\n",
       "      <td>NaN</td>\n",
       "      <td>NaN</td>\n",
       "      <td>...</td>\n",
       "      <td>NaN</td>\n",
       "      <td>NaN</td>\n",
       "      <td>NaN</td>\n",
       "      <td>NaN</td>\n",
       "      <td>NaN</td>\n",
       "      <td>NaN</td>\n",
       "      <td>NaN</td>\n",
       "      <td>NaN</td>\n",
       "      <td>NaN</td>\n",
       "      <td>NaN</td>\n",
       "    </tr>\n",
       "    <tr>\n",
       "      <th>01impala</th>\n",
       "      <td>NaN</td>\n",
       "      <td>NaN</td>\n",
       "      <td>NaN</td>\n",
       "      <td>NaN</td>\n",
       "      <td>NaN</td>\n",
       "      <td>NaN</td>\n",
       "      <td>NaN</td>\n",
       "      <td>NaN</td>\n",
       "      <td>NaN</td>\n",
       "      <td>NaN</td>\n",
       "      <td>...</td>\n",
       "      <td>NaN</td>\n",
       "      <td>NaN</td>\n",
       "      <td>NaN</td>\n",
       "      <td>NaN</td>\n",
       "      <td>NaN</td>\n",
       "      <td>NaN</td>\n",
       "      <td>NaN</td>\n",
       "      <td>NaN</td>\n",
       "      <td>NaN</td>\n",
       "      <td>NaN</td>\n",
       "    </tr>\n",
       "    <tr>\n",
       "      <th>02deuce</th>\n",
       "      <td>NaN</td>\n",
       "      <td>NaN</td>\n",
       "      <td>NaN</td>\n",
       "      <td>NaN</td>\n",
       "      <td>NaN</td>\n",
       "      <td>NaN</td>\n",
       "      <td>NaN</td>\n",
       "      <td>NaN</td>\n",
       "      <td>NaN</td>\n",
       "      <td>NaN</td>\n",
       "      <td>...</td>\n",
       "      <td>NaN</td>\n",
       "      <td>NaN</td>\n",
       "      <td>NaN</td>\n",
       "      <td>NaN</td>\n",
       "      <td>NaN</td>\n",
       "      <td>NaN</td>\n",
       "      <td>NaN</td>\n",
       "      <td>NaN</td>\n",
       "      <td>NaN</td>\n",
       "      <td>NaN</td>\n",
       "    </tr>\n",
       "    <tr>\n",
       "      <th>06stidriver</th>\n",
       "      <td>NaN</td>\n",
       "      <td>NaN</td>\n",
       "      <td>NaN</td>\n",
       "      <td>NaN</td>\n",
       "      <td>NaN</td>\n",
       "      <td>NaN</td>\n",
       "      <td>NaN</td>\n",
       "      <td>NaN</td>\n",
       "      <td>NaN</td>\n",
       "      <td>NaN</td>\n",
       "      <td>...</td>\n",
       "      <td>NaN</td>\n",
       "      <td>NaN</td>\n",
       "      <td>NaN</td>\n",
       "      <td>NaN</td>\n",
       "      <td>NaN</td>\n",
       "      <td>NaN</td>\n",
       "      <td>NaN</td>\n",
       "      <td>NaN</td>\n",
       "      <td>NaN</td>\n",
       "      <td>NaN</td>\n",
       "    </tr>\n",
       "    <tr>\n",
       "      <th>08dallas</th>\n",
       "      <td>NaN</td>\n",
       "      <td>NaN</td>\n",
       "      <td>NaN</td>\n",
       "      <td>NaN</td>\n",
       "      <td>NaN</td>\n",
       "      <td>NaN</td>\n",
       "      <td>NaN</td>\n",
       "      <td>NaN</td>\n",
       "      <td>NaN</td>\n",
       "      <td>NaN</td>\n",
       "      <td>...</td>\n",
       "      <td>NaN</td>\n",
       "      <td>NaN</td>\n",
       "      <td>NaN</td>\n",
       "      <td>NaN</td>\n",
       "      <td>NaN</td>\n",
       "      <td>NaN</td>\n",
       "      <td>NaN</td>\n",
       "      <td>NaN</td>\n",
       "      <td>NaN</td>\n",
       "      <td>NaN</td>\n",
       "    </tr>\n",
       "  </tbody>\n",
       "</table>\n",
       "<p>5 rows × 264 columns</p>\n",
       "</div>"
      ],
      "text/plain": [
       "product_id   AV13O1A8GV-KLJ3akUyj  AV14LG0R-jtxr-f38QfS  AV16khLE-jtxr-f38VFn  \\\n",
       "user                                                                            \n",
       "00sab00                       NaN                   NaN                   NaN   \n",
       "01impala                      NaN                   NaN                   NaN   \n",
       "02deuce                       NaN                   NaN                   NaN   \n",
       "06stidriver                   NaN                   NaN                   NaN   \n",
       "08dallas                      NaN                   NaN                   NaN   \n",
       "\n",
       "product_id   AV1YGDqsGV-KLJ3adc-O  AV1YIch7GV-KLJ3addeG  AV1YlENIglJLPUi8IHsX  \\\n",
       "user                                                                            \n",
       "00sab00                       NaN                   NaN                   NaN   \n",
       "01impala                      NaN                   NaN                   NaN   \n",
       "02deuce                       NaN                   NaN                   NaN   \n",
       "06stidriver                   NaN                   NaN                   NaN   \n",
       "08dallas                      NaN                   NaN                   NaN   \n",
       "\n",
       "product_id   AV1YmBrdGV-KLJ3adewb  AV1YmDL9vKc47QAVgr7_  AV1Ymf_rglJLPUi8II2v  \\\n",
       "user                                                                            \n",
       "00sab00                       NaN                   NaN                   NaN   \n",
       "01impala                      NaN                   NaN                   NaN   \n",
       "02deuce                       NaN                   NaN                   NaN   \n",
       "06stidriver                   NaN                   NaN                   NaN   \n",
       "08dallas                      NaN                   NaN                   NaN   \n",
       "\n",
       "product_id   AV1Yn94nvKc47QAVgtst  ...  AVpfrfHF1cnluZ0-pRai  \\\n",
       "user                               ...                         \n",
       "00sab00                       NaN  ...                   NaN   \n",
       "01impala                      NaN  ...                   NaN   \n",
       "02deuce                       NaN  ...                   NaN   \n",
       "06stidriver                   NaN  ...                   NaN   \n",
       "08dallas                      NaN  ...                   NaN   \n",
       "\n",
       "product_id   AVpfrgjFLJeJML43BvCc  AVpfs0tUilAPnD_xgqN2  AVpfsQoeilAPnD_xgfx5  \\\n",
       "user                                                                            \n",
       "00sab00                       NaN                   NaN                   NaN   \n",
       "01impala                      NaN                   NaN                   NaN   \n",
       "02deuce                       NaN                   NaN                   NaN   \n",
       "06stidriver                   NaN                   NaN                   NaN   \n",
       "08dallas                      NaN                   NaN                   NaN   \n",
       "\n",
       "product_id   AVpfshNsLJeJML43CB8q  AVpfthSailAPnD_xg3ON  AVpftikC1cnluZ0-p31V  \\\n",
       "user                                                                            \n",
       "00sab00                       NaN                   NaN                   NaN   \n",
       "01impala                      NaN                   NaN                   NaN   \n",
       "02deuce                       NaN                   NaN                   NaN   \n",
       "06stidriver                   NaN                   NaN                   NaN   \n",
       "08dallas                      NaN                   NaN                   NaN   \n",
       "\n",
       "product_id   AVpftymALJeJML43CZ6y  AVpfv4TlilAPnD_xhjNS  AVpfvieo1cnluZ0-qdnu  \n",
       "user                                                                           \n",
       "00sab00                       NaN                   NaN                   NaN  \n",
       "01impala                      NaN                   NaN                   NaN  \n",
       "02deuce                       NaN                   NaN                   NaN  \n",
       "06stidriver                   NaN                   NaN                   NaN  \n",
       "08dallas                      NaN                   NaN                   NaN  \n",
       "\n",
       "[5 rows x 264 columns]"
      ]
     },
     "execution_count": 19,
     "metadata": {},
     "output_type": "execute_result"
    }
   ],
   "source": [
    "# Now lets create a user similarity matrix with Adjusted Cosine Similarity approach\n",
    "\n",
    "\"\"\" \n",
    "- Here we will be needing NaNs as we will first first find the mean which will store the values of means corresponding to each \n",
    "  product_id in the dataset for all the users \n",
    "\n",
    "- Once we have the mean array, we need to subtract each user's rating from the mean [for this we will be creating a new pivot table \n",
    "  ‘df_subtracted’ using ‘df_subtracted = (df_pivot.T-mean).T](Normalizing the user rating around mean 0)\n",
    "\n",
    "- The ‘df_pivot’ has users in rows and products in columns, and you need to subtract each column from the data available in the \n",
    "  ‘mean’ array (1D array), and this is why you need to do ‘df_pivot.T’\n",
    "\n",
    "- Then finally we  need to transpose the (df_pivot.T - mean) to finally get ‘df_substracted’\n",
    "      \n",
    "\"\"\"\n",
    "\n",
    "df_pivot = train.pivot_table(\n",
    "    index='user',\n",
    "    columns='product_id',\n",
    "    values='ratings'\n",
    ")\n",
    "\n",
    "mean = np.nanmean(df_pivot, axis=1)\n",
    "df_subtracted = (df_pivot.T-mean).T\n",
    "\n",
    "df_subtracted.head()"
   ]
  },
  {
   "cell_type": "code",
   "execution_count": null,
   "metadata": {
    "execution": {
     "iopub.execute_input": "2022-02-01T18:39:15.888063Z",
     "iopub.status.busy": "2022-02-01T18:39:15.887722Z",
     "iopub.status.idle": "2022-02-01T18:39:24.813982Z",
     "shell.execute_reply": "2022-02-01T18:39:24.813030Z",
     "shell.execute_reply.started": "2022-02-01T18:39:15.888027Z"
    }
   },
   "outputs": [],
   "source": [
    "user_correlation = 1 - pairwise_distances(df_subtracted.fillna(0), metric='cosine')\n",
    "user_correlation[np.isnan(user_correlation)] = 0\n",
    "print(user_correlation)"
   ]
  },
  {
   "cell_type": "markdown",
   "metadata": {},
   "source": [
    "Now that we have the correlation matrices we will now proceed with the predictions"
   ]
  },
  {
   "cell_type": "markdown",
   "metadata": {},
   "source": [
    "### Predictions: User-User\n",
    "\n",
    "Doing the prediction for the users which are positively related with other users, and not the users which are negatively related as we are interested in the users which are more similar to the current users. So, ignoring the correlation for values less than 0."
   ]
  },
  {
   "cell_type": "code",
   "execution_count": null,
   "metadata": {
    "execution": {
     "iopub.execute_input": "2022-02-01T18:39:31.702771Z",
     "iopub.status.busy": "2022-02-01T18:39:31.702440Z",
     "iopub.status.idle": "2022-02-01T18:39:36.473864Z",
     "shell.execute_reply": "2022-02-01T18:39:36.472793Z",
     "shell.execute_reply.started": "2022-02-01T18:39:31.702736Z"
    }
   },
   "outputs": [],
   "source": [
    "user_correlation[user_correlation<0]=0\n",
    "\n",
    "#getting predictions for the movies rated and not rated by the user\n",
    "user_predicted_ratings = np.dot(user_correlation, df_pivot.fillna(0))"
   ]
  },
  {
   "cell_type": "code",
   "execution_count": null,
   "metadata": {
    "execution": {
     "iopub.execute_input": "2022-02-01T18:39:36.476727Z",
     "iopub.status.busy": "2022-02-01T18:39:36.475901Z",
     "iopub.status.idle": "2022-02-01T18:39:36.583772Z",
     "shell.execute_reply": "2022-02-01T18:39:36.582766Z",
     "shell.execute_reply.started": "2022-02-01T18:39:36.476675Z"
    }
   },
   "outputs": [],
   "source": [
    "# Lets get final pivot \n",
    "\n",
    "user_final_rating = np.multiply(user_predicted_ratings,dummy_train)\n",
    "user_final_rating.head()"
   ]
  },
  {
   "cell_type": "code",
   "execution_count": null,
   "metadata": {
    "execution": {
     "iopub.execute_input": "2022-02-01T18:39:48.038119Z",
     "iopub.status.busy": "2022-02-01T18:39:48.037167Z",
     "iopub.status.idle": "2022-02-01T18:39:48.107618Z",
     "shell.execute_reply": "2022-02-01T18:39:48.106560Z",
     "shell.execute_reply.started": "2022-02-01T18:39:48.038048Z"
    }
   },
   "outputs": [],
   "source": [
    "user_final_rating_df = pd.DataFrame(user_final_rating)\n",
    "user_final_rating_df"
   ]
  },
  {
   "cell_type": "code",
   "execution_count": null,
   "metadata": {},
   "outputs": [],
   "source": []
  },
  {
   "cell_type": "markdown",
   "metadata": {},
   "source": [
    "### Finding the top 20 recommendation for the *user*"
   ]
  },
  {
   "cell_type": "code",
   "execution_count": null,
   "metadata": {
    "execution": {
     "iopub.execute_input": "2022-02-01T18:39:52.738521Z",
     "iopub.status.busy": "2022-02-01T18:39:52.738152Z",
     "iopub.status.idle": "2022-02-01T18:39:52.743040Z",
     "shell.execute_reply": "2022-02-01T18:39:52.741996Z",
     "shell.execute_reply.started": "2022-02-01T18:39:52.738464Z"
    }
   },
   "outputs": [],
   "source": [
    "# Take the user ID as input.\n",
    "#user_input = input(\"Enter your user name\")\n",
    "#print(user_input)\n",
    "user_input = '01impala'"
   ]
  },
  {
   "cell_type": "code",
   "execution_count": null,
   "metadata": {
    "execution": {
     "iopub.execute_input": "2022-02-01T18:39:57.627343Z",
     "iopub.status.busy": "2022-02-01T18:39:57.626305Z",
     "iopub.status.idle": "2022-02-01T18:39:57.650000Z",
     "shell.execute_reply": "2022-02-01T18:39:57.648852Z",
     "shell.execute_reply.started": "2022-02-01T18:39:57.627256Z"
    }
   },
   "outputs": [],
   "source": [
    "#Creating a new dataframe for recommendation\n",
    "\n",
    "d = user_final_rating.loc[user_input].sort_values(ascending=False)[0:20]\n",
    "d"
   ]
  },
  {
   "cell_type": "code",
   "execution_count": null,
   "metadata": {
    "execution": {
     "iopub.execute_input": "2022-02-01T18:40:01.813868Z",
     "iopub.status.busy": "2022-02-01T18:40:01.813544Z",
     "iopub.status.idle": "2022-02-01T18:40:02.092356Z",
     "shell.execute_reply": "2022-02-01T18:40:02.091049Z",
     "shell.execute_reply.started": "2022-02-01T18:40:01.813832Z"
    }
   },
   "outputs": [],
   "source": [
    "# Reading the main data file again for mapping data\n",
    "\n",
    "df_map= pd.read_csv('../input/productreviews/capstone_data.csv')\n",
    "df_map = df_map[['id', 'name', 'reviews_text','user_sentiment']]\n",
    "\n",
    "df_map.head()"
   ]
  },
  {
   "cell_type": "code",
   "execution_count": null,
   "metadata": {
    "execution": {
     "iopub.execute_input": "2022-02-01T18:40:03.054070Z",
     "iopub.status.busy": "2022-02-01T18:40:03.053766Z",
     "iopub.status.idle": "2022-02-01T18:40:03.070277Z",
     "shell.execute_reply": "2022-02-01T18:40:03.069207Z",
     "shell.execute_reply.started": "2022-02-01T18:40:03.054034Z"
    }
   },
   "outputs": [],
   "source": [
    "df_map = df_map.rename(columns= {'id':\"product_id\", 'reviews_username':\"user\", 'reviews_rating':\"ratings\"})\n",
    "\n",
    "df_map.head()"
   ]
  },
  {
   "cell_type": "code",
   "execution_count": null,
   "metadata": {
    "execution": {
     "iopub.execute_input": "2022-02-01T18:40:06.751735Z",
     "iopub.status.busy": "2022-02-01T18:40:06.751347Z",
     "iopub.status.idle": "2022-02-01T18:40:06.779986Z",
     "shell.execute_reply": "2022-02-01T18:40:06.778751Z",
     "shell.execute_reply.started": "2022-02-01T18:40:06.751696Z"
    }
   },
   "outputs": [],
   "source": [
    "d = pd.merge(d,df_map,left_on='product_id',right_on='product_id', how = 'left')\n",
    "d.shape"
   ]
  },
  {
   "cell_type": "code",
   "execution_count": null,
   "metadata": {
    "execution": {
     "iopub.execute_input": "2022-02-01T18:40:14.428077Z",
     "iopub.status.busy": "2022-02-01T18:40:14.427713Z",
     "iopub.status.idle": "2022-02-01T18:40:14.444077Z",
     "shell.execute_reply": "2022-02-01T18:40:14.442488Z",
     "shell.execute_reply.started": "2022-02-01T18:40:14.428035Z"
    }
   },
   "outputs": [],
   "source": [
    "d.head()"
   ]
  },
  {
   "cell_type": "markdown",
   "metadata": {},
   "source": [
    "### User-User Recommendation Evaluation\n",
    "\n",
    "Evaluation will we same as we have seen above for the prediction. The only difference being, we will evaluate for the product already rated by the user insead of predicting it for the product not rated by the user. "
   ]
  },
  {
   "cell_type": "code",
   "execution_count": null,
   "metadata": {
    "execution": {
     "iopub.execute_input": "2022-02-01T18:40:19.426896Z",
     "iopub.status.busy": "2022-02-01T18:40:19.425626Z",
     "iopub.status.idle": "2022-02-01T18:40:19.440199Z",
     "shell.execute_reply": "2022-02-01T18:40:19.439389Z",
     "shell.execute_reply.started": "2022-02-01T18:40:19.426823Z"
    }
   },
   "outputs": [],
   "source": [
    "# Find out the common users of test and train dataset\n",
    "\n",
    "common = test[test.user.isin(train.user)]\n",
    "common.shape"
   ]
  },
  {
   "cell_type": "code",
   "execution_count": null,
   "metadata": {
    "execution": {
     "iopub.execute_input": "2022-02-01T18:40:20.854402Z",
     "iopub.status.busy": "2022-02-01T18:40:20.854107Z",
     "iopub.status.idle": "2022-02-01T18:40:20.878099Z",
     "shell.execute_reply": "2022-02-01T18:40:20.876940Z",
     "shell.execute_reply.started": "2022-02-01T18:40:20.854370Z"
    }
   },
   "outputs": [],
   "source": [
    "# convert into the user-movie matrix\n",
    "\n",
    "common_user_based_matrix = common.pivot_table(index='user', columns='product_id', values='ratings')"
   ]
  },
  {
   "cell_type": "code",
   "execution_count": null,
   "metadata": {
    "execution": {
     "iopub.execute_input": "2022-02-01T18:40:24.039434Z",
     "iopub.status.busy": "2022-02-01T18:40:24.039108Z",
     "iopub.status.idle": "2022-02-01T18:40:24.045711Z",
     "shell.execute_reply": "2022-02-01T18:40:24.044574Z",
     "shell.execute_reply.started": "2022-02-01T18:40:24.039393Z"
    }
   },
   "outputs": [],
   "source": [
    "# Convert the user_correlation matrix into dataframe\n",
    "\n",
    "user_correlation_df = pd.DataFrame(user_correlation)"
   ]
  },
  {
   "cell_type": "code",
   "execution_count": null,
   "metadata": {
    "execution": {
     "iopub.execute_input": "2022-02-01T18:40:27.232814Z",
     "iopub.status.busy": "2022-02-01T18:40:27.232520Z",
     "iopub.status.idle": "2022-02-01T18:40:27.285032Z",
     "shell.execute_reply": "2022-02-01T18:40:27.284188Z",
     "shell.execute_reply.started": "2022-02-01T18:40:27.232783Z"
    }
   },
   "outputs": [],
   "source": [
    "user_correlation_df['user'] = df_subtracted.index\n",
    "user_correlation_df.set_index('user',inplace=True)\n",
    "user_correlation_df.head()"
   ]
  },
  {
   "cell_type": "code",
   "execution_count": null,
   "metadata": {
    "execution": {
     "iopub.execute_input": "2022-02-01T18:40:28.556932Z",
     "iopub.status.busy": "2022-02-01T18:40:28.556462Z",
     "iopub.status.idle": "2022-02-01T18:40:28.568375Z",
     "shell.execute_reply": "2022-02-01T18:40:28.567491Z",
     "shell.execute_reply.started": "2022-02-01T18:40:28.556895Z"
    }
   },
   "outputs": [],
   "source": [
    "common.head(1)"
   ]
  },
  {
   "cell_type": "code",
   "execution_count": null,
   "metadata": {
    "execution": {
     "iopub.execute_input": "2022-02-01T18:40:30.693305Z",
     "iopub.status.busy": "2022-02-01T18:40:30.693018Z",
     "iopub.status.idle": "2022-02-01T18:40:30.783684Z",
     "shell.execute_reply": "2022-02-01T18:40:30.782919Z",
     "shell.execute_reply.started": "2022-02-01T18:40:30.693273Z"
    }
   },
   "outputs": [],
   "source": [
    "list_name = common.user.tolist()\n",
    "\n",
    "user_correlation_df.columns = df_subtracted.index.tolist()\n",
    "\n",
    "user_correlation_df_1 =  user_correlation_df[user_correlation_df.index.isin(list_name)]\n",
    "\n",
    "user_correlation_df_1.shape"
   ]
  },
  {
   "cell_type": "code",
   "execution_count": null,
   "metadata": {
    "execution": {
     "iopub.execute_input": "2022-02-01T18:40:32.637676Z",
     "iopub.status.busy": "2022-02-01T18:40:32.636794Z",
     "iopub.status.idle": "2022-02-01T18:40:32.701279Z",
     "shell.execute_reply": "2022-02-01T18:40:32.700690Z",
     "shell.execute_reply.started": "2022-02-01T18:40:32.637636Z"
    }
   },
   "outputs": [],
   "source": [
    "user_correlation_df_2 = user_correlation_df_1.T[user_correlation_df_1.T.index.isin(list_name)]\n",
    "user_correlation_df_3 = user_correlation_df_2.T\n",
    "print(user_correlation_df_3.shape)\n",
    "user_correlation_df_3.head()"
   ]
  },
  {
   "cell_type": "code",
   "execution_count": null,
   "metadata": {
    "execution": {
     "iopub.execute_input": "2022-02-01T18:40:33.794346Z",
     "iopub.status.busy": "2022-02-01T18:40:33.793478Z",
     "iopub.status.idle": "2022-02-01T18:40:33.839438Z",
     "shell.execute_reply": "2022-02-01T18:40:33.838557Z",
     "shell.execute_reply.started": "2022-02-01T18:40:33.794306Z"
    }
   },
   "outputs": [],
   "source": [
    "user_correlation_df_3[user_correlation_df_3<0]=0\n",
    "\n",
    "common_user_predicted_ratings = np.dot(user_correlation_df_3, common_user_based_matrix.fillna(0))\n",
    "common_user_predicted_ratings"
   ]
  },
  {
   "cell_type": "code",
   "execution_count": null,
   "metadata": {
    "execution": {
     "iopub.execute_input": "2022-02-01T18:40:35.135703Z",
     "iopub.status.busy": "2022-02-01T18:40:35.135383Z",
     "iopub.status.idle": "2022-02-01T18:40:35.183344Z",
     "shell.execute_reply": "2022-02-01T18:40:35.182714Z",
     "shell.execute_reply.started": "2022-02-01T18:40:35.135669Z"
    }
   },
   "outputs": [],
   "source": [
    "dummy_test = common.copy()\n",
    "\n",
    "dummy_test['ratings'] = dummy_test['ratings'].apply(lambda x: 1 if x>=1 else 0)\n",
    "\n",
    "dummy_test = dummy_test.pivot_table(index='user', columns='product_id', values='ratings').fillna(0)\n",
    "\n",
    "common_user_predicted_ratings = np.multiply(common_user_predicted_ratings,dummy_test)\n",
    "\n",
    "common_user_predicted_ratings.head(2)"
   ]
  },
  {
   "cell_type": "code",
   "execution_count": null,
   "metadata": {
    "execution": {
     "iopub.execute_input": "2022-02-01T18:40:36.639021Z",
     "iopub.status.busy": "2022-02-01T18:40:36.638310Z",
     "iopub.status.idle": "2022-02-01T18:40:36.660055Z",
     "shell.execute_reply": "2022-02-01T18:40:36.659299Z",
     "shell.execute_reply.started": "2022-02-01T18:40:36.638983Z"
    }
   },
   "outputs": [],
   "source": [
    "#Calculating the RMSE for only the movies rated by user. For RMSE, normalising the rating to (1,5) range.\n",
    "\n",
    "from sklearn.preprocessing import MinMaxScaler\n",
    "from numpy import *\n",
    "\n",
    "X  = common_user_predicted_ratings.copy() \n",
    "X = X[X>0]\n",
    "\n",
    "scaler = MinMaxScaler(feature_range=(1, 5))\n",
    "print(scaler.fit(X))\n",
    "y = (scaler.transform(X))\n",
    "\n",
    "print(y)"
   ]
  },
  {
   "cell_type": "code",
   "execution_count": null,
   "metadata": {
    "execution": {
     "iopub.execute_input": "2022-02-01T18:40:37.734031Z",
     "iopub.status.busy": "2022-02-01T18:40:37.733359Z",
     "iopub.status.idle": "2022-02-01T18:40:37.762479Z",
     "shell.execute_reply": "2022-02-01T18:40:37.761667Z",
     "shell.execute_reply.started": "2022-02-01T18:40:37.733993Z"
    }
   },
   "outputs": [],
   "source": [
    "common_ = common.pivot_table(index='user', columns='product_id', values='ratings')\n",
    "\n",
    "total_non_nan = np.count_nonzero(~np.isnan(y))\n",
    "rmse = (sum(sum((common_ - y )**2))/total_non_nan)**0.5\n",
    "print(rmse)"
   ]
  },
  {
   "cell_type": "markdown",
   "metadata": {
    "execution": {
     "iopub.execute_input": "2022-02-01T16:59:25.109538Z",
     "iopub.status.busy": "2022-02-01T16:59:25.109190Z",
     "iopub.status.idle": "2022-02-01T16:59:25.113448Z",
     "shell.execute_reply": "2022-02-01T16:59:25.112828Z",
     "shell.execute_reply.started": "2022-02-01T16:59:25.109502Z"
    }
   },
   "source": [
    "### Item Based Similarity"
   ]
  },
  {
   "cell_type": "code",
   "execution_count": null,
   "metadata": {
    "execution": {
     "iopub.execute_input": "2022-02-01T18:40:42.399416Z",
     "iopub.status.busy": "2022-02-01T18:40:42.398771Z",
     "iopub.status.idle": "2022-02-01T18:40:42.615509Z",
     "shell.execute_reply": "2022-02-01T18:40:42.614596Z",
     "shell.execute_reply.started": "2022-02-01T18:40:42.399380Z"
    }
   },
   "outputs": [],
   "source": [
    "df_pivot = train.pivot_table(\n",
    "    index='user', \n",
    "    columns='product_id', \n",
    "    values='ratings'\n",
    ").T\n",
    "\n",
    "df_pivot.head()"
   ]
  },
  {
   "cell_type": "code",
   "execution_count": null,
   "metadata": {
    "execution": {
     "iopub.execute_input": "2022-02-01T18:40:43.608433Z",
     "iopub.status.busy": "2022-02-01T18:40:43.608055Z",
     "iopub.status.idle": "2022-02-01T18:40:43.723223Z",
     "shell.execute_reply": "2022-02-01T18:40:43.722084Z",
     "shell.execute_reply.started": "2022-02-01T18:40:43.608393Z"
    }
   },
   "outputs": [],
   "source": [
    "# Normalising the movie rating for each movie for using the Adujsted Cosine\n",
    "\n",
    "mean = np.nanmean(df_pivot, axis=1)\n",
    "df_subtracted = (df_pivot.T-mean).T\n",
    "\n",
    "df_subtracted.head()"
   ]
  },
  {
   "cell_type": "code",
   "execution_count": null,
   "metadata": {
    "execution": {
     "iopub.execute_input": "2022-02-01T18:40:44.813701Z",
     "iopub.status.busy": "2022-02-01T18:40:44.813307Z",
     "iopub.status.idle": "2022-02-01T18:40:45.066842Z",
     "shell.execute_reply": "2022-02-01T18:40:45.063565Z",
     "shell.execute_reply.started": "2022-02-01T18:40:44.813662Z"
    }
   },
   "outputs": [],
   "source": [
    "# Item Similarity Matrix\n",
    "\n",
    "item_correlation = 1 - pairwise_distances(df_subtracted.fillna(0), metric='cosine')\n",
    "item_correlation[np.isnan(item_correlation)] = 0\n",
    "print(item_correlation)"
   ]
  },
  {
   "cell_type": "code",
   "execution_count": null,
   "metadata": {
    "execution": {
     "iopub.execute_input": "2022-02-01T18:40:46.106201Z",
     "iopub.status.busy": "2022-02-01T18:40:46.105844Z",
     "iopub.status.idle": "2022-02-01T18:40:46.259841Z",
     "shell.execute_reply": "2022-02-01T18:40:46.258808Z",
     "shell.execute_reply.started": "2022-02-01T18:40:46.106163Z"
    }
   },
   "outputs": [],
   "source": [
    "# Filtering the correlation only for which the value is greater than 0. (Positively correlated)\n",
    "\n",
    "item_correlation[item_correlation<0]=0\n",
    "\n",
    "#getting predictions for the movies rated and not rated by the user\n",
    "\n",
    "item_predicted_ratings = np.dot((df_pivot.fillna(0).T),item_correlation)\n",
    "item_predicted_ratings\n"
   ]
  },
  {
   "cell_type": "code",
   "execution_count": null,
   "metadata": {
    "execution": {
     "iopub.execute_input": "2022-02-01T18:40:47.873728Z",
     "iopub.status.busy": "2022-02-01T18:40:47.873316Z",
     "iopub.status.idle": "2022-02-01T18:40:47.945102Z",
     "shell.execute_reply": "2022-02-01T18:40:47.944134Z",
     "shell.execute_reply.started": "2022-02-01T18:40:47.873688Z"
    }
   },
   "outputs": [],
   "source": [
    "# Now filtering the rating only for the movies not rated by the user for recommendation\n",
    "\n",
    "item_final_rating = np.multiply(item_predicted_ratings,dummy_train)\n",
    "item_final_rating.head()"
   ]
  },
  {
   "cell_type": "markdown",
   "metadata": {},
   "source": [
    "### Finding the top 20 recommendation for the *user*"
   ]
  },
  {
   "cell_type": "code",
   "execution_count": null,
   "metadata": {
    "execution": {
     "iopub.execute_input": "2022-02-01T18:40:53.419469Z",
     "iopub.status.busy": "2022-02-01T18:40:53.418790Z",
     "iopub.status.idle": "2022-02-01T18:40:53.424421Z",
     "shell.execute_reply": "2022-02-01T18:40:53.423472Z",
     "shell.execute_reply.started": "2022-02-01T18:40:53.419416Z"
    }
   },
   "outputs": [],
   "source": [
    "# Take the user ID as input.\n",
    "#user_input = input(\"Enter your user name\")\n",
    "#print(user_input)\n",
    "\n",
    "user_input = '01impala'"
   ]
  },
  {
   "cell_type": "code",
   "execution_count": null,
   "metadata": {
    "execution": {
     "iopub.execute_input": "2022-02-01T18:40:54.428443Z",
     "iopub.status.busy": "2022-02-01T18:40:54.427357Z",
     "iopub.status.idle": "2022-02-01T18:40:54.437193Z",
     "shell.execute_reply": "2022-02-01T18:40:54.436488Z",
     "shell.execute_reply.started": "2022-02-01T18:40:54.428395Z"
    }
   },
   "outputs": [],
   "source": [
    "# Recommending the Top 20 products to the user.\n",
    "d = item_final_rating.loc[user_input].sort_values(ascending=False)[0:20]\n",
    "d"
   ]
  },
  {
   "cell_type": "code",
   "execution_count": null,
   "metadata": {
    "execution": {
     "iopub.execute_input": "2022-02-01T18:40:55.395655Z",
     "iopub.status.busy": "2022-02-01T18:40:55.394280Z",
     "iopub.status.idle": "2022-02-01T18:40:55.734764Z",
     "shell.execute_reply": "2022-02-01T18:40:55.733588Z",
     "shell.execute_reply.started": "2022-02-01T18:40:55.395602Z"
    }
   },
   "outputs": [],
   "source": [
    "# Reading the main data file again for mapping data\n",
    "\n",
    "df_map= pd.read_csv('../input/productreviews/capstone_data.csv')\n",
    "df_map = df_map[['id', 'name', 'reviews_text','user_sentiment']]\n",
    "\n",
    "df_map = df_map.rename(columns= {'id':\"product_id\", 'reviews_username':\"user\", 'reviews_rating':\"ratings\"})\n",
    "\n",
    "df_map.head()"
   ]
  },
  {
   "cell_type": "code",
   "execution_count": null,
   "metadata": {
    "execution": {
     "iopub.execute_input": "2022-02-01T18:40:56.664390Z",
     "iopub.status.busy": "2022-02-01T18:40:56.664084Z",
     "iopub.status.idle": "2022-02-01T18:40:56.690307Z",
     "shell.execute_reply": "2022-02-01T18:40:56.689585Z",
     "shell.execute_reply.started": "2022-02-01T18:40:56.664359Z"
    }
   },
   "outputs": [],
   "source": [
    "d = pd.merge(d,df_map,left_on='product_id',right_on='product_id',how = 'left')\n",
    "d.head()"
   ]
  },
  {
   "cell_type": "code",
   "execution_count": null,
   "metadata": {
    "execution": {
     "iopub.execute_input": "2022-02-01T18:40:57.637989Z",
     "iopub.status.busy": "2022-02-01T18:40:57.636786Z",
     "iopub.status.idle": "2022-02-01T18:41:05.758069Z",
     "shell.execute_reply": "2022-02-01T18:41:05.757116Z",
     "shell.execute_reply.started": "2022-02-01T18:40:57.637919Z"
    }
   },
   "outputs": [],
   "source": [
    "train_new = pd.merge(train,df_map,left_on='product_id',right_on='product_id',how='left')\n",
    "train_new.head()"
   ]
  },
  {
   "cell_type": "code",
   "execution_count": null,
   "metadata": {
    "execution": {
     "iopub.execute_input": "2022-02-01T18:41:05.760115Z",
     "iopub.status.busy": "2022-02-01T18:41:05.759852Z",
     "iopub.status.idle": "2022-02-01T18:41:27.721464Z",
     "shell.execute_reply": "2022-02-01T18:41:27.720238Z",
     "shell.execute_reply.started": "2022-02-01T18:41:05.760082Z"
    }
   },
   "outputs": [],
   "source": [
    "train_new[train_new.user == user_input].head()"
   ]
  },
  {
   "cell_type": "markdown",
   "metadata": {},
   "source": [
    "### Evaluation of Item Based Recommendation"
   ]
  },
  {
   "cell_type": "code",
   "execution_count": null,
   "metadata": {
    "execution": {
     "iopub.execute_input": "2022-02-01T18:41:29.798391Z",
     "iopub.status.busy": "2022-02-01T18:41:29.797296Z",
     "iopub.status.idle": "2022-02-01T18:41:29.806083Z",
     "shell.execute_reply": "2022-02-01T18:41:29.805475Z",
     "shell.execute_reply.started": "2022-02-01T18:41:29.798317Z"
    }
   },
   "outputs": [],
   "source": [
    "test.shape"
   ]
  },
  {
   "cell_type": "code",
   "execution_count": null,
   "metadata": {
    "execution": {
     "iopub.execute_input": "2022-02-01T18:41:32.504270Z",
     "iopub.status.busy": "2022-02-01T18:41:32.503620Z",
     "iopub.status.idle": "2022-02-01T18:41:32.515779Z",
     "shell.execute_reply": "2022-02-01T18:41:32.514943Z",
     "shell.execute_reply.started": "2022-02-01T18:41:32.504220Z"
    }
   },
   "outputs": [],
   "source": [
    "# The evaluation process for Item based will be same as that of User Based\n",
    "\n",
    "\n",
    "common =  test[test.product_id.isin(train.product_id)]\n",
    "common.shape"
   ]
  },
  {
   "cell_type": "code",
   "execution_count": null,
   "metadata": {
    "execution": {
     "iopub.execute_input": "2022-02-01T18:44:21.301067Z",
     "iopub.status.busy": "2022-02-01T18:44:21.300693Z",
     "iopub.status.idle": "2022-02-01T18:44:21.370856Z",
     "shell.execute_reply": "2022-02-01T18:44:21.369690Z",
     "shell.execute_reply.started": "2022-02-01T18:44:21.301032Z"
    }
   },
   "outputs": [],
   "source": [
    "common_item_based_matrix_ = common.pivot_table(index='user', columns='product_id', values='ratings').T\n",
    "common_item_based_matrix_.shape"
   ]
  },
  {
   "cell_type": "code",
   "execution_count": null,
   "metadata": {
    "execution": {
     "iopub.execute_input": "2022-02-01T18:44:21.766693Z",
     "iopub.status.busy": "2022-02-01T18:44:21.766087Z",
     "iopub.status.idle": "2022-02-01T18:44:21.796490Z",
     "shell.execute_reply": "2022-02-01T18:44:21.795569Z",
     "shell.execute_reply.started": "2022-02-01T18:44:21.766647Z"
    }
   },
   "outputs": [],
   "source": [
    "common_item_based_matrix_.head()"
   ]
  },
  {
   "cell_type": "code",
   "execution_count": null,
   "metadata": {
    "execution": {
     "iopub.execute_input": "2022-02-01T18:44:22.131211Z",
     "iopub.status.busy": "2022-02-01T18:44:22.130838Z",
     "iopub.status.idle": "2022-02-01T18:44:22.159376Z",
     "shell.execute_reply": "2022-02-01T18:44:22.158211Z",
     "shell.execute_reply.started": "2022-02-01T18:44:22.131168Z"
    }
   },
   "outputs": [],
   "source": [
    "common_item_based_df = pd.DataFrame(common_item_based_matrix_)\n",
    "common_item_based_df.head()"
   ]
  },
  {
   "cell_type": "code",
   "execution_count": null,
   "metadata": {
    "execution": {
     "iopub.execute_input": "2022-02-01T18:44:23.337930Z",
     "iopub.status.busy": "2022-02-01T18:44:23.336573Z",
     "iopub.status.idle": "2022-02-01T18:44:23.344428Z",
     "shell.execute_reply": "2022-02-01T18:44:23.343423Z",
     "shell.execute_reply.started": "2022-02-01T18:44:23.337867Z"
    }
   },
   "outputs": [],
   "source": [
    "common_item_based_df.shape"
   ]
  },
  {
   "cell_type": "code",
   "execution_count": null,
   "metadata": {
    "execution": {
     "iopub.execute_input": "2022-02-01T18:44:24.118435Z",
     "iopub.status.busy": "2022-02-01T18:44:24.117482Z",
     "iopub.status.idle": "2022-02-01T18:44:24.153436Z",
     "shell.execute_reply": "2022-02-01T18:44:24.152756Z",
     "shell.execute_reply.started": "2022-02-01T18:44:24.118380Z"
    }
   },
   "outputs": [],
   "source": [
    "item_correlation_df = pd.DataFrame(item_correlation)\n",
    "item_correlation_df.head()"
   ]
  },
  {
   "cell_type": "code",
   "execution_count": null,
   "metadata": {
    "execution": {
     "iopub.execute_input": "2022-02-01T18:44:24.466794Z",
     "iopub.status.busy": "2022-02-01T18:44:24.465590Z",
     "iopub.status.idle": "2022-02-01T18:44:24.504189Z",
     "shell.execute_reply": "2022-02-01T18:44:24.503193Z",
     "shell.execute_reply.started": "2022-02-01T18:44:24.466739Z"
    }
   },
   "outputs": [],
   "source": [
    "item_correlation_df['product_id'] = df_subtracted.index\n",
    "item_correlation_df.set_index('product_id',inplace=True)\n",
    "item_correlation_df.head()"
   ]
  },
  {
   "cell_type": "code",
   "execution_count": null,
   "metadata": {
    "execution": {
     "iopub.execute_input": "2022-02-01T18:44:24.867880Z",
     "iopub.status.busy": "2022-02-01T18:44:24.867554Z",
     "iopub.status.idle": "2022-02-01T18:44:24.912741Z",
     "shell.execute_reply": "2022-02-01T18:44:24.911573Z",
     "shell.execute_reply.started": "2022-02-01T18:44:24.867844Z"
    }
   },
   "outputs": [],
   "source": [
    "list_name = common.product_id.tolist()\n",
    "\n",
    "item_correlation_df.columns = df_subtracted.index.tolist()\n",
    "\n",
    "item_correlation_df_1 =  item_correlation_df[item_correlation_df.index.isin(list_name)]\n",
    "\n",
    "item_correlation_df_2 = item_correlation_df_1.T[item_correlation_df_1.T.index.isin(list_name)]\n",
    "\n",
    "item_correlation_df_3 = item_correlation_df_2.T\n",
    "\n",
    "item_correlation_df_3.head()"
   ]
  },
  {
   "cell_type": "code",
   "execution_count": null,
   "metadata": {
    "execution": {
     "iopub.execute_input": "2022-02-01T18:44:25.312323Z",
     "iopub.status.busy": "2022-02-01T18:44:25.311734Z",
     "iopub.status.idle": "2022-02-01T18:44:25.315964Z",
     "shell.execute_reply": "2022-02-01T18:44:25.315365Z",
     "shell.execute_reply.started": "2022-02-01T18:44:25.312285Z"
    }
   },
   "outputs": [],
   "source": [
    "#ls = common_item_based_df.index.tolist()"
   ]
  },
  {
   "cell_type": "code",
   "execution_count": null,
   "metadata": {
    "execution": {
     "iopub.execute_input": "2022-02-01T18:44:25.801821Z",
     "iopub.status.busy": "2022-02-01T18:44:25.800860Z",
     "iopub.status.idle": "2022-02-01T18:44:25.806595Z",
     "shell.execute_reply": "2022-02-01T18:44:25.805461Z",
     "shell.execute_reply.started": "2022-02-01T18:44:25.801772Z"
    }
   },
   "outputs": [],
   "source": [
    "#ls2 = item_correlation_df_3.columns.tolist()"
   ]
  },
  {
   "cell_type": "code",
   "execution_count": null,
   "metadata": {
    "execution": {
     "iopub.execute_input": "2022-02-01T18:44:26.135032Z",
     "iopub.status.busy": "2022-02-01T18:44:26.134668Z",
     "iopub.status.idle": "2022-02-01T18:44:26.143278Z",
     "shell.execute_reply": "2022-02-01T18:44:26.142101Z",
     "shell.execute_reply.started": "2022-02-01T18:44:26.134994Z"
    }
   },
   "outputs": [],
   "source": [
    "#len(ls)"
   ]
  },
  {
   "cell_type": "code",
   "execution_count": null,
   "metadata": {
    "execution": {
     "iopub.execute_input": "2022-02-01T18:44:26.400153Z",
     "iopub.status.busy": "2022-02-01T18:44:26.399389Z",
     "iopub.status.idle": "2022-02-01T18:44:26.407960Z",
     "shell.execute_reply": "2022-02-01T18:44:26.407053Z",
     "shell.execute_reply.started": "2022-02-01T18:44:26.400099Z"
    }
   },
   "outputs": [],
   "source": [
    "\"\"\"for i in ls2:\n",
    "    if not i in ls:\n",
    "        print(i)\"\"\""
   ]
  },
  {
   "cell_type": "code",
   "execution_count": null,
   "metadata": {
    "execution": {
     "iopub.execute_input": "2022-02-01T18:44:26.826490Z",
     "iopub.status.busy": "2022-02-01T18:44:26.825650Z",
     "iopub.status.idle": "2022-02-01T18:44:26.853641Z",
     "shell.execute_reply": "2022-02-01T18:44:26.852332Z",
     "shell.execute_reply.started": "2022-02-01T18:44:26.826442Z"
    }
   },
   "outputs": [],
   "source": [
    "#common_item_based_df.head()"
   ]
  },
  {
   "cell_type": "code",
   "execution_count": null,
   "metadata": {
    "execution": {
     "iopub.execute_input": "2022-02-01T18:44:27.771189Z",
     "iopub.status.busy": "2022-02-01T18:44:27.770892Z",
     "iopub.status.idle": "2022-02-01T18:44:27.778482Z",
     "shell.execute_reply": "2022-02-01T18:44:27.777361Z",
     "shell.execute_reply.started": "2022-02-01T18:44:27.771159Z"
    }
   },
   "outputs": [],
   "source": [
    "#common_item_based_df.index"
   ]
  },
  {
   "cell_type": "code",
   "execution_count": null,
   "metadata": {
    "execution": {
     "iopub.execute_input": "2022-02-01T18:44:28.671754Z",
     "iopub.status.busy": "2022-02-01T18:44:28.671226Z",
     "iopub.status.idle": "2022-02-01T18:44:28.704947Z",
     "shell.execute_reply": "2022-02-01T18:44:28.703875Z",
     "shell.execute_reply.started": "2022-02-01T18:44:28.671720Z"
    }
   },
   "outputs": [],
   "source": [
    "#item_correlation_df_3.head()"
   ]
  },
  {
   "cell_type": "code",
   "execution_count": null,
   "metadata": {
    "execution": {
     "iopub.execute_input": "2022-02-01T18:44:29.684545Z",
     "iopub.status.busy": "2022-02-01T18:44:29.684112Z",
     "iopub.status.idle": "2022-02-01T18:44:29.690068Z",
     "shell.execute_reply": "2022-02-01T18:44:29.689086Z",
     "shell.execute_reply.started": "2022-02-01T18:44:29.684512Z"
    }
   },
   "outputs": [],
   "source": [
    "#item_correlation_df_3.index"
   ]
  },
  {
   "cell_type": "code",
   "execution_count": null,
   "metadata": {
    "execution": {
     "iopub.execute_input": "2022-02-01T18:44:30.777052Z",
     "iopub.status.busy": "2022-02-01T18:44:30.776551Z",
     "iopub.status.idle": "2022-02-01T18:44:30.785894Z",
     "shell.execute_reply": "2022-02-01T18:44:30.784842Z",
     "shell.execute_reply.started": "2022-02-01T18:44:30.777015Z"
    }
   },
   "outputs": [],
   "source": [
    "#if 'AVpfNfEMLJeJML434uf-' in item_correlation_df_3.columns:\n",
    "    #print(\"Fuck yeah\")\n",
    "\n",
    "#item_correlation_df_3= item_correlation_df_3[item_correlation_df_3.columns != 'AVpfNfEMLJeJML434uf-']\n",
    "\n",
    "#item_correlation_df_3.drop(['AVpfNfEMLJeJML434uf-'], axis=1, inplace=True)\n",
    "#item_correlation_df_3.shape"
   ]
  },
  {
   "cell_type": "code",
   "execution_count": null,
   "metadata": {
    "execution": {
     "iopub.execute_input": "2022-02-01T18:44:32.420720Z",
     "iopub.status.busy": "2022-02-01T18:44:32.420359Z",
     "iopub.status.idle": "2022-02-01T18:44:32.426260Z",
     "shell.execute_reply": "2022-02-01T18:44:32.425490Z",
     "shell.execute_reply.started": "2022-02-01T18:44:32.420684Z"
    }
   },
   "outputs": [],
   "source": [
    "item_correlation_df_3.shape"
   ]
  },
  {
   "cell_type": "code",
   "execution_count": null,
   "metadata": {
    "execution": {
     "iopub.execute_input": "2022-02-01T18:44:33.182510Z",
     "iopub.status.busy": "2022-02-01T18:44:33.182158Z",
     "iopub.status.idle": "2022-02-01T18:44:33.220846Z",
     "shell.execute_reply": "2022-02-01T18:44:33.219907Z",
     "shell.execute_reply.started": "2022-02-01T18:44:33.182462Z"
    }
   },
   "outputs": [],
   "source": [
    "item_correlation_df_3[item_correlation_df_3<0]=0\n",
    "\n",
    "common_item_predicted_ratings = np.dot(item_correlation_df_3, common_item_based_matrix_.fillna(0))\n",
    "common_item_predicted_ratings"
   ]
  },
  {
   "cell_type": "code",
   "execution_count": null,
   "metadata": {
    "execution": {
     "iopub.execute_input": "2022-02-01T18:44:34.445179Z",
     "iopub.status.busy": "2022-02-01T18:44:34.444895Z",
     "iopub.status.idle": "2022-02-01T18:44:34.659152Z",
     "shell.execute_reply": "2022-02-01T18:44:34.657565Z",
     "shell.execute_reply.started": "2022-02-01T18:44:34.445147Z"
    }
   },
   "outputs": [],
   "source": [
    "dummy_test = common.copy()\n",
    "\n",
    "dummy_test['ratings'] = dummy_test['ratings'].apply(lambda x: 1 if x>=1 else 0)\n",
    "\n",
    "dummy_test = dummy_test.pivot_table(index='user', columns='product_id', values='ratings').T.fillna(0)\n",
    "\n",
    "common_item_predicted_ratings = np.multiply(common_item_predicted_ratings,dummy_test)"
   ]
  },
  {
   "cell_type": "code",
   "execution_count": null,
   "metadata": {
    "execution": {
     "iopub.execute_input": "2022-02-01T18:20:14.201365Z",
     "iopub.status.busy": "2022-02-01T18:20:14.201024Z",
     "iopub.status.idle": "2022-02-01T18:20:14.260518Z",
     "shell.execute_reply": "2022-02-01T18:20:14.259567Z",
     "shell.execute_reply.started": "2022-02-01T18:20:14.201333Z"
    }
   },
   "outputs": [],
   "source": [
    "# The products not rated is marked as 0 for evaluation. And make the item- item matrix representaion.\n",
    "\n",
    "common_ = common.pivot_table(index='user', columns='product_id', values='ratings').T"
   ]
  },
  {
   "cell_type": "code",
   "execution_count": null,
   "metadata": {
    "execution": {
     "iopub.execute_input": "2022-02-01T18:20:28.727557Z",
     "iopub.status.busy": "2022-02-01T18:20:28.726732Z",
     "iopub.status.idle": "2022-02-01T18:20:28.894826Z",
     "shell.execute_reply": "2022-02-01T18:20:28.893655Z",
     "shell.execute_reply.started": "2022-02-01T18:20:28.727518Z"
    }
   },
   "outputs": [],
   "source": [
    "X  = common_item_predicted_ratings.copy() \n",
    "X = X[X>0]\n",
    "\n",
    "scaler = MinMaxScaler(feature_range=(1, 5))\n",
    "print(scaler.fit(X))\n",
    "y = (scaler.transform(X))\n",
    "\n",
    "print(y)"
   ]
  },
  {
   "cell_type": "code",
   "execution_count": null,
   "metadata": {
    "execution": {
     "iopub.execute_input": "2022-02-01T18:20:43.888769Z",
     "iopub.status.busy": "2022-02-01T18:20:43.888403Z",
     "iopub.status.idle": "2022-02-01T18:20:43.900052Z",
     "shell.execute_reply": "2022-02-01T18:20:43.899072Z",
     "shell.execute_reply.started": "2022-02-01T18:20:43.888733Z"
    }
   },
   "outputs": [],
   "source": [
    "# Finding total non-NaN value\n",
    "\n",
    "total_non_nan = np.count_nonzero(~np.isnan(y))"
   ]
  },
  {
   "cell_type": "code",
   "execution_count": null,
   "metadata": {
    "execution": {
     "iopub.execute_input": "2022-02-01T18:20:55.084190Z",
     "iopub.status.busy": "2022-02-01T18:20:55.083862Z",
     "iopub.status.idle": "2022-02-01T18:20:55.130670Z",
     "shell.execute_reply": "2022-02-01T18:20:55.129602Z",
     "shell.execute_reply.started": "2022-02-01T18:20:55.084155Z"
    }
   },
   "outputs": [],
   "source": [
    "rmse = (sum(sum((common_ - y )**2))/total_non_nan)**0.5\n",
    "print(rmse)"
   ]
  },
  {
   "cell_type": "markdown",
   "metadata": {},
   "source": [
    "So, after evaluating both the filtering techniques I am going with User Based Collaborative filtering as it has lower RMSE than Item based collaborative filtering."
   ]
  },
  {
   "cell_type": "code",
   "execution_count": null,
   "metadata": {},
   "outputs": [],
   "source": []
  }
 ],
 "metadata": {
  "kernelspec": {
   "display_name": "Python 3 (ipykernel)",
   "language": "python",
   "name": "python3"
  },
  "language_info": {
   "codemirror_mode": {
    "name": "ipython",
    "version": 3
   },
   "file_extension": ".py",
   "mimetype": "text/x-python",
   "name": "python",
   "nbconvert_exporter": "python",
   "pygments_lexer": "ipython3",
   "version": "3.8.12"
  }
 },
 "nbformat": 4,
 "nbformat_minor": 4
}
